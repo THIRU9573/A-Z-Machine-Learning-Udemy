{
 "cells": [
  {
   "cell_type": "markdown",
   "id": "2d90263a",
   "metadata": {},
   "source": [
    "# what is Eclat:"
   ]
  },
  {
   "cell_type": "markdown",
   "id": "2ec6d877",
   "metadata": {},
   "source": [
    "Eclat (Equivalence Class Clustering and bottom-up Lattice Traversal) is an algorithm used for frequent itemset mining in data science. It is a depth-first search algorithm that discovers frequent itemsets in a transactional dataset. Here's a step-by-step explanation of how Eclat works along with a real-time example problem:\n",
    "\n",
    "Step 1: Data Preprocessing\n",
    "First, we need to preprocess the transactional data, i.e., convert the data into a suitable format for analysis. We can represent the transactional data in the form of a binary matrix where each row represents a transaction, and each column represents an item. If an item appears in a transaction, we mark it with a '1'; otherwise, we mark it with a '0.'\n",
    "\n",
    "Consider the following transactional dataset:\n",
    "\n",
    "Transaction\tItems\n",
    "T1\tA, B\n",
    "T2\tA, C\n",
    "T3\tA, C\n",
    "T4\tA, B, C\n",
    "T5\tB, C\n",
    "The binary matrix for the above transactional dataset would look like:\n",
    "\n",
    "Items\tT1\tT2\tT3\tT4\tT5\n",
    "A\t1\t1\t1\t1\t0\n",
    "B\t1\t0\t0\t1\t1\n",
    "C\t0\t1\t1\t1\t1\n",
    "Step 2: Finding frequent itemsets\n",
    "In this step, we find all the frequent itemsets in the dataset. An itemset is considered frequent if it appears in at least a minimum number of transactions (called the support). Eclat uses a depth-first search approach to traverse the itemset lattice to find frequent itemsets.\n",
    "\n",
    "For example, let's set the minimum support to 3. We start by finding all the frequent 1-itemsets (itemsets with a single item). Since the minimum support is 3, we only consider those items that appear in at least 3 transactions. From the binary matrix, we can see that items A, B, and C appear in at least 3 transactions. Therefore, the frequent 1-itemsets are {A}, {B}, and {C}.\n",
    "\n",
    "Next, we generate candidate 2-itemsets by combining the frequent 1-itemsets. The generated 2-itemsets are {A,B}, {A,C}, and {B,C}. We then count the support of each 2-itemset by examining the transactions containing both items. For example, {A,B} appears in T1, T4, and T5. Hence, the support of {A,B} is 3. We discard any 2-itemset that does not meet the minimum support threshold. In this case, all 2-itemsets meet the minimum support threshold, so all of them are considered frequent.\n",
    "\n",
    "We continue generating higher-order itemsets until we can no longer find any frequent itemsets. In this example, we can generate 3-itemsets {A,B,C} by combining {A,B} and {B,C}. Since {A,B,C} appears in at least 3 transactions, it is a frequent itemset.\n",
    "\n",
    "Step 3: Rule Generation\n",
    "In this step, we generate association rules from the frequent itemsets. An association rule is an implication of the form X -> Y, where X and Y are itemsets. The rule indicates that if a transaction contains X, it is likely to contain Y as well.\n",
    "\n",
    "For example, from the frequent item"
   ]
  },
  {
   "cell_type": "markdown",
   "id": "85e6fa93",
   "metadata": {},
   "source": [
    "# Data Preprocessing:"
   ]
  },
  {
   "cell_type": "code",
   "execution_count": 1,
   "id": "ffa4029a",
   "metadata": {},
   "outputs": [],
   "source": [
    "import numpy as np\n",
    "import pandas as pd\n",
    "import matplotlib.pyplot as plt"
   ]
  },
  {
   "cell_type": "code",
   "execution_count": 4,
   "id": "31ee9812",
   "metadata": {},
   "outputs": [],
   "source": [
    "data = pd.read_csv(\"C:/Users/thiru/Downloads/Resume/Machine Learning A-Z (Codes and Datasets)/Part 5 - Association Rule Learning/Section 29 - Eclat/Python/Market_Basket_Optimisation.csv\",header = None)\n",
    "transactions = []\n",
    "for i in range(0,7501):\n",
    "    transactions.append([str(data.values[i,j]) for j in range(0,20)])"
   ]
  },
  {
   "cell_type": "markdown",
   "id": "21c59b33",
   "metadata": {},
   "source": [
    "# Training the Eclat Model to the whole dataset:"
   ]
  },
  {
   "cell_type": "code",
   "execution_count": 5,
   "id": "6dfd92be",
   "metadata": {},
   "outputs": [],
   "source": [
    "from apyori import apriori\n",
    "rules = apriori(transactions = transactions, min_support = 0.003, min_confidence = 0.2,min_lift = 3, min_length = 2,max_length = 2)"
   ]
  },
  {
   "cell_type": "code",
   "execution_count": 6,
   "id": "80f375ba",
   "metadata": {},
   "outputs": [],
   "source": [
    "results =list(rules)"
   ]
  },
  {
   "cell_type": "code",
   "execution_count": 7,
   "id": "6cfd62ca",
   "metadata": {},
   "outputs": [
    {
     "data": {
      "text/plain": [
       "[RelationRecord(items=frozenset({'light cream', 'chicken'}), support=0.004532728969470737, ordered_statistics=[OrderedStatistic(items_base=frozenset({'light cream'}), items_add=frozenset({'chicken'}), confidence=0.29059829059829057, lift=4.84395061728395)]),\n",
       " RelationRecord(items=frozenset({'mushroom cream sauce', 'escalope'}), support=0.005732568990801226, ordered_statistics=[OrderedStatistic(items_base=frozenset({'mushroom cream sauce'}), items_add=frozenset({'escalope'}), confidence=0.3006993006993007, lift=3.790832696715049)]),\n",
       " RelationRecord(items=frozenset({'escalope', 'pasta'}), support=0.005865884548726837, ordered_statistics=[OrderedStatistic(items_base=frozenset({'pasta'}), items_add=frozenset({'escalope'}), confidence=0.3728813559322034, lift=4.700811850163794)]),\n",
       " RelationRecord(items=frozenset({'honey', 'fromage blanc'}), support=0.003332888948140248, ordered_statistics=[OrderedStatistic(items_base=frozenset({'fromage blanc'}), items_add=frozenset({'honey'}), confidence=0.2450980392156863, lift=5.164270764485569)]),\n",
       " RelationRecord(items=frozenset({'herb & pepper', 'ground beef'}), support=0.015997866951073192, ordered_statistics=[OrderedStatistic(items_base=frozenset({'herb & pepper'}), items_add=frozenset({'ground beef'}), confidence=0.3234501347708895, lift=3.2919938411349285)]),\n",
       " RelationRecord(items=frozenset({'tomato sauce', 'ground beef'}), support=0.005332622317024397, ordered_statistics=[OrderedStatistic(items_base=frozenset({'tomato sauce'}), items_add=frozenset({'ground beef'}), confidence=0.3773584905660377, lift=3.840659481324083)]),\n",
       " RelationRecord(items=frozenset({'olive oil', 'light cream'}), support=0.003199573390214638, ordered_statistics=[OrderedStatistic(items_base=frozenset({'light cream'}), items_add=frozenset({'olive oil'}), confidence=0.20512820512820515, lift=3.1147098515519573)]),\n",
       " RelationRecord(items=frozenset({'whole wheat pasta', 'olive oil'}), support=0.007998933475536596, ordered_statistics=[OrderedStatistic(items_base=frozenset({'whole wheat pasta'}), items_add=frozenset({'olive oil'}), confidence=0.2714932126696833, lift=4.122410097642296)]),\n",
       " RelationRecord(items=frozenset({'shrimp', 'pasta'}), support=0.005065991201173177, ordered_statistics=[OrderedStatistic(items_base=frozenset({'pasta'}), items_add=frozenset({'shrimp'}), confidence=0.3220338983050847, lift=4.506672147735896)])]"
      ]
     },
     "execution_count": 7,
     "metadata": {},
     "output_type": "execute_result"
    }
   ],
   "source": [
    "results"
   ]
  },
  {
   "cell_type": "code",
   "execution_count": 9,
   "id": "77106a11",
   "metadata": {},
   "outputs": [],
   "source": [
    "def inspect(results):\n",
    "    lhs = [tuple(result[2][0][0])[0] for result in results ]\n",
    "    rhs = [tuple(result[2][0][1])[0] for result in results]\n",
    "    supports = [result[1] for result in results]\n",
    "    return list(zip(lhs,rhs,supports))\n",
    "resultsinDataFrame = pd.DataFrame(inspect(results), columns = ['Product 1','Product 2','Support'])"
   ]
  },
  {
   "cell_type": "markdown",
   "id": "1c22b929",
   "metadata": {},
   "source": [
    "# Displaing the Reults Sorted by Descending Supports"
   ]
  },
  {
   "cell_type": "code",
   "execution_count": 11,
   "id": "c07f321a",
   "metadata": {},
   "outputs": [
    {
     "data": {
      "text/html": [
       "<div>\n",
       "<style scoped>\n",
       "    .dataframe tbody tr th:only-of-type {\n",
       "        vertical-align: middle;\n",
       "    }\n",
       "\n",
       "    .dataframe tbody tr th {\n",
       "        vertical-align: top;\n",
       "    }\n",
       "\n",
       "    .dataframe thead th {\n",
       "        text-align: right;\n",
       "    }\n",
       "</style>\n",
       "<table border=\"1\" class=\"dataframe\">\n",
       "  <thead>\n",
       "    <tr style=\"text-align: right;\">\n",
       "      <th></th>\n",
       "      <th>Product 1</th>\n",
       "      <th>Product 2</th>\n",
       "      <th>Support</th>\n",
       "    </tr>\n",
       "  </thead>\n",
       "  <tbody>\n",
       "    <tr>\n",
       "      <th>4</th>\n",
       "      <td>herb &amp; pepper</td>\n",
       "      <td>ground beef</td>\n",
       "      <td>0.015998</td>\n",
       "    </tr>\n",
       "    <tr>\n",
       "      <th>7</th>\n",
       "      <td>whole wheat pasta</td>\n",
       "      <td>olive oil</td>\n",
       "      <td>0.007999</td>\n",
       "    </tr>\n",
       "    <tr>\n",
       "      <th>2</th>\n",
       "      <td>pasta</td>\n",
       "      <td>escalope</td>\n",
       "      <td>0.005866</td>\n",
       "    </tr>\n",
       "    <tr>\n",
       "      <th>1</th>\n",
       "      <td>mushroom cream sauce</td>\n",
       "      <td>escalope</td>\n",
       "      <td>0.005733</td>\n",
       "    </tr>\n",
       "    <tr>\n",
       "      <th>5</th>\n",
       "      <td>tomato sauce</td>\n",
       "      <td>ground beef</td>\n",
       "      <td>0.005333</td>\n",
       "    </tr>\n",
       "    <tr>\n",
       "      <th>8</th>\n",
       "      <td>pasta</td>\n",
       "      <td>shrimp</td>\n",
       "      <td>0.005066</td>\n",
       "    </tr>\n",
       "    <tr>\n",
       "      <th>0</th>\n",
       "      <td>light cream</td>\n",
       "      <td>chicken</td>\n",
       "      <td>0.004533</td>\n",
       "    </tr>\n",
       "    <tr>\n",
       "      <th>3</th>\n",
       "      <td>fromage blanc</td>\n",
       "      <td>honey</td>\n",
       "      <td>0.003333</td>\n",
       "    </tr>\n",
       "    <tr>\n",
       "      <th>6</th>\n",
       "      <td>light cream</td>\n",
       "      <td>olive oil</td>\n",
       "      <td>0.003200</td>\n",
       "    </tr>\n",
       "  </tbody>\n",
       "</table>\n",
       "</div>"
      ],
      "text/plain": [
       "              Product 1    Product 2   Support\n",
       "4         herb & pepper  ground beef  0.015998\n",
       "7     whole wheat pasta    olive oil  0.007999\n",
       "2                 pasta     escalope  0.005866\n",
       "1  mushroom cream sauce     escalope  0.005733\n",
       "5          tomato sauce  ground beef  0.005333\n",
       "8                 pasta       shrimp  0.005066\n",
       "0           light cream      chicken  0.004533\n",
       "3         fromage blanc        honey  0.003333\n",
       "6           light cream    olive oil  0.003200"
      ]
     },
     "execution_count": 11,
     "metadata": {},
     "output_type": "execute_result"
    }
   ],
   "source": [
    "resultsinDataFrame.nlargest(n = 10, columns = 'Support')"
   ]
  },
  {
   "cell_type": "code",
   "execution_count": null,
   "id": "1c4a1f1e",
   "metadata": {},
   "outputs": [],
   "source": []
  }
 ],
 "metadata": {
  "kernelspec": {
   "display_name": "Python 3 (ipykernel)",
   "language": "python",
   "name": "python3"
  },
  "language_info": {
   "codemirror_mode": {
    "name": "ipython",
    "version": 3
   },
   "file_extension": ".py",
   "mimetype": "text/x-python",
   "name": "python",
   "nbconvert_exporter": "python",
   "pygments_lexer": "ipython3",
   "version": "3.10.9"
  }
 },
 "nbformat": 4,
 "nbformat_minor": 5
}
