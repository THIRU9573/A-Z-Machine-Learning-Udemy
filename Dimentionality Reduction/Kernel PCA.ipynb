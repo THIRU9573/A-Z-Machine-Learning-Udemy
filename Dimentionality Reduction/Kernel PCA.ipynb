{
 "cells": [
  {
   "cell_type": "markdown",
   "id": "565ad401",
   "metadata": {},
   "source": [
    "# what is kernel PCA:"
   ]
  },
  {
   "cell_type": "markdown",
   "id": "82356eab",
   "metadata": {},
   "source": [
    "Kernel PCA (Principal Component Analysis) is a non-linear version of PCA that uses a kernel function to transform the original data into a higher dimensional feature space before applying PCA. This allows for capturing more complex and non-linear relationships between the variables in the data.\n",
    "\n",
    "Here's an example of how to perform Kernel PCA step by step:\n",
    "\n",
    "1.Data Preparation:\n",
    "Let's say you have a dataset with n observations and p variables. The first step is to standardize the data to ensure that each variable has a mean of zero and a standard deviation of one. This is necessary to make sure that each variable has equal importance in the analysis.\n",
    "\n",
    "2.Choosing a kernel:\n",
    "The next step is to choose an appropriate kernel function. The most commonly used kernel functions are the Gaussian kernel, polynomial kernel, and sigmoid kernel. The choice of kernel function depends on the type of data and the problem you are trying to solve.\n",
    "\n",
    "3.Calculating Kernel matrix:\n",
    "Once you have chosen a kernel function, the next step is to calculate the kernel matrix. This is a matrix that shows the pairwise similarity between each observation in the data. In other words, it tells us how similar each observation is to every other observation in the data.\n",
    "\n",
    "4.Eigenvalue Decomposition:\n",
    "The kernel matrix is then decomposed into its eigenvectors and eigenvalues. The eigenvectors represent the directions in the new feature space that capture the most variation in the data, while the eigenvalues represent the amount of variation captured by each eigenvector.\n",
    "\n",
    "5.Selecting the number of components:\n",
    "The next step is to select the number of principal components to retain. This can be done by looking at the scree plot, which shows the eigenvalues of each component in decreasing order. The number of components to retain is usually determined by selecting the number of components that explain a certain percentage of the total variance in the data.\n",
    "\n",
    "6.Projecting the data:\n",
    "The final step is to project the data onto the selected principal components. This will transform the data into a new feature space where the first principal component captures the most variation in the data, followed by the second principal component, and so on.\n",
    "\n",
    "Real-world example: Suppose you have a dataset with customer purchase history, including information about the type of products purchased, the amount spent, and the time of purchase. You want to analyze this data to identify patterns and trends that can help you understand customer behavior and make more informed marketing decisions.\n",
    "\n",
    "First, you would standardize the data and choose an appropriate kernel function, such as the Gaussian kernel. Then, you would calculate the kernel matrix and perform eigenvalue decomposition to identify the principal components that capture the most variation in the data. Next, you would select the number of principal components to retain based on the scree plot.\n",
    "\n",
    "Finally, you would project the data onto the selected principal components to transform the data into a new feature space. This would allow you to identify patterns and trends that are not easily visible in the original data, such as non-linear relationships between variables or clusters of similar customer behavior. You could then use this information to develop targeted marketing campaigns or improve product recommendations for individual customers.\n",
    "\n",
    "\n",
    "\n"
   ]
  },
  {
   "cell_type": "markdown",
   "id": "62232e3e",
   "metadata": {},
   "source": [
    "# Import Required Libraries:"
   ]
  },
  {
   "cell_type": "code",
   "execution_count": 1,
   "id": "cebbab72",
   "metadata": {},
   "outputs": [],
   "source": [
    "import numpy as np \n",
    "import pandas as pd\n",
    "import matplotlib.pyplot as plt"
   ]
  },
  {
   "cell_type": "markdown",
   "id": "b84a10a3",
   "metadata": {},
   "source": [
    "# Import the dataset:"
   ]
  },
  {
   "cell_type": "code",
   "execution_count": 2,
   "id": "a0981145",
   "metadata": {},
   "outputs": [],
   "source": [
    "dataset = pd.read_csv(\"Wine.csv\")\n",
    "x = dataset.iloc[:,:-1].values\n",
    "y = dataset.iloc[: ,-1].values"
   ]
  },
  {
   "cell_type": "markdown",
   "id": "c8a442ed",
   "metadata": {},
   "source": [
    "# Splitting the dataset into training and testing:"
   ]
  },
  {
   "cell_type": "code",
   "execution_count": 3,
   "id": "f4644b3f",
   "metadata": {},
   "outputs": [],
   "source": [
    "from sklearn.model_selection import train_test_split\n",
    "X_train,X_test,Y_train,Y_test = train_test_split(x,y, test_size = 0.2,random_state = 0)"
   ]
  },
  {
   "cell_type": "markdown",
   "id": "6b8cfaf8",
   "metadata": {},
   "source": [
    "# Feature scaling:"
   ]
  },
  {
   "cell_type": "code",
   "execution_count": 4,
   "id": "3b7cc06e",
   "metadata": {},
   "outputs": [],
   "source": [
    "from sklearn.preprocessing import StandardScaler\n",
    "sc = StandardScaler()\n",
    "X_train = sc.fit_transform(X_train)\n",
    "X_test = sc.transform(X_test)"
   ]
  },
  {
   "cell_type": "markdown",
   "id": "d1b7d2cb",
   "metadata": {},
   "source": [
    "# Applying the  Kernel PCA:"
   ]
  },
  {
   "cell_type": "code",
   "execution_count": 6,
   "id": "3d1a97c6",
   "metadata": {},
   "outputs": [],
   "source": [
    "from sklearn.decomposition import KernelPCA\n",
    "kpca = KernelPCA(n_components = 2, kernel = 'rbf')\n",
    "X_train = kpca.fit_transform(X_train)\n",
    "X_test = kpca.transform(X_test)"
   ]
  },
  {
   "cell_type": "markdown",
   "id": "87f9216e",
   "metadata": {},
   "source": [
    "# Training the Logistic Regression Model on The Training set:"
   ]
  },
  {
   "cell_type": "code",
   "execution_count": 7,
   "id": "e0b9d002",
   "metadata": {},
   "outputs": [
    {
     "data": {
      "text/html": [
       "<style>#sk-container-id-1 {color: black;background-color: white;}#sk-container-id-1 pre{padding: 0;}#sk-container-id-1 div.sk-toggleable {background-color: white;}#sk-container-id-1 label.sk-toggleable__label {cursor: pointer;display: block;width: 100%;margin-bottom: 0;padding: 0.3em;box-sizing: border-box;text-align: center;}#sk-container-id-1 label.sk-toggleable__label-arrow:before {content: \"▸\";float: left;margin-right: 0.25em;color: #696969;}#sk-container-id-1 label.sk-toggleable__label-arrow:hover:before {color: black;}#sk-container-id-1 div.sk-estimator:hover label.sk-toggleable__label-arrow:before {color: black;}#sk-container-id-1 div.sk-toggleable__content {max-height: 0;max-width: 0;overflow: hidden;text-align: left;background-color: #f0f8ff;}#sk-container-id-1 div.sk-toggleable__content pre {margin: 0.2em;color: black;border-radius: 0.25em;background-color: #f0f8ff;}#sk-container-id-1 input.sk-toggleable__control:checked~div.sk-toggleable__content {max-height: 200px;max-width: 100%;overflow: auto;}#sk-container-id-1 input.sk-toggleable__control:checked~label.sk-toggleable__label-arrow:before {content: \"▾\";}#sk-container-id-1 div.sk-estimator input.sk-toggleable__control:checked~label.sk-toggleable__label {background-color: #d4ebff;}#sk-container-id-1 div.sk-label input.sk-toggleable__control:checked~label.sk-toggleable__label {background-color: #d4ebff;}#sk-container-id-1 input.sk-hidden--visually {border: 0;clip: rect(1px 1px 1px 1px);clip: rect(1px, 1px, 1px, 1px);height: 1px;margin: -1px;overflow: hidden;padding: 0;position: absolute;width: 1px;}#sk-container-id-1 div.sk-estimator {font-family: monospace;background-color: #f0f8ff;border: 1px dotted black;border-radius: 0.25em;box-sizing: border-box;margin-bottom: 0.5em;}#sk-container-id-1 div.sk-estimator:hover {background-color: #d4ebff;}#sk-container-id-1 div.sk-parallel-item::after {content: \"\";width: 100%;border-bottom: 1px solid gray;flex-grow: 1;}#sk-container-id-1 div.sk-label:hover label.sk-toggleable__label {background-color: #d4ebff;}#sk-container-id-1 div.sk-serial::before {content: \"\";position: absolute;border-left: 1px solid gray;box-sizing: border-box;top: 0;bottom: 0;left: 50%;z-index: 0;}#sk-container-id-1 div.sk-serial {display: flex;flex-direction: column;align-items: center;background-color: white;padding-right: 0.2em;padding-left: 0.2em;position: relative;}#sk-container-id-1 div.sk-item {position: relative;z-index: 1;}#sk-container-id-1 div.sk-parallel {display: flex;align-items: stretch;justify-content: center;background-color: white;position: relative;}#sk-container-id-1 div.sk-item::before, #sk-container-id-1 div.sk-parallel-item::before {content: \"\";position: absolute;border-left: 1px solid gray;box-sizing: border-box;top: 0;bottom: 0;left: 50%;z-index: -1;}#sk-container-id-1 div.sk-parallel-item {display: flex;flex-direction: column;z-index: 1;position: relative;background-color: white;}#sk-container-id-1 div.sk-parallel-item:first-child::after {align-self: flex-end;width: 50%;}#sk-container-id-1 div.sk-parallel-item:last-child::after {align-self: flex-start;width: 50%;}#sk-container-id-1 div.sk-parallel-item:only-child::after {width: 0;}#sk-container-id-1 div.sk-dashed-wrapped {border: 1px dashed gray;margin: 0 0.4em 0.5em 0.4em;box-sizing: border-box;padding-bottom: 0.4em;background-color: white;}#sk-container-id-1 div.sk-label label {font-family: monospace;font-weight: bold;display: inline-block;line-height: 1.2em;}#sk-container-id-1 div.sk-label-container {text-align: center;}#sk-container-id-1 div.sk-container {/* jupyter's `normalize.less` sets `[hidden] { display: none; }` but bootstrap.min.css set `[hidden] { display: none !important; }` so we also need the `!important` here to be able to override the default hidden behavior on the sphinx rendered scikit-learn.org. See: https://github.com/scikit-learn/scikit-learn/issues/21755 */display: inline-block !important;position: relative;}#sk-container-id-1 div.sk-text-repr-fallback {display: none;}</style><div id=\"sk-container-id-1\" class=\"sk-top-container\"><div class=\"sk-text-repr-fallback\"><pre>LogisticRegression()</pre><b>In a Jupyter environment, please rerun this cell to show the HTML representation or trust the notebook. <br />On GitHub, the HTML representation is unable to render, please try loading this page with nbviewer.org.</b></div><div class=\"sk-container\" hidden><div class=\"sk-item\"><div class=\"sk-estimator sk-toggleable\"><input class=\"sk-toggleable__control sk-hidden--visually\" id=\"sk-estimator-id-1\" type=\"checkbox\" checked><label for=\"sk-estimator-id-1\" class=\"sk-toggleable__label sk-toggleable__label-arrow\">LogisticRegression</label><div class=\"sk-toggleable__content\"><pre>LogisticRegression()</pre></div></div></div></div></div>"
      ],
      "text/plain": [
       "LogisticRegression()"
      ]
     },
     "execution_count": 7,
     "metadata": {},
     "output_type": "execute_result"
    }
   ],
   "source": [
    "from sklearn.linear_model import LogisticRegression\n",
    "classifier = LogisticRegression()\n",
    "classifier.fit(X_train,Y_train)"
   ]
  },
  {
   "cell_type": "code",
   "execution_count": 8,
   "id": "82db6dde",
   "metadata": {},
   "outputs": [],
   "source": [
    "y_pred = classifier.predict(X_test)"
   ]
  },
  {
   "cell_type": "markdown",
   "id": "e9aa57e4",
   "metadata": {},
   "source": [
    "# Making the confusion matrix :"
   ]
  },
  {
   "cell_type": "code",
   "execution_count": 9,
   "id": "79578c46",
   "metadata": {},
   "outputs": [
    {
     "name": "stdout",
     "output_type": "stream",
     "text": [
      "[[14  0  0]\n",
      " [ 0 16  0]\n",
      " [ 0  0  6]]\n"
     ]
    },
    {
     "data": {
      "text/plain": [
       "1.0"
      ]
     },
     "execution_count": 9,
     "metadata": {},
     "output_type": "execute_result"
    }
   ],
   "source": [
    "from sklearn.metrics import confusion_matrix,accuracy_score\n",
    "cm = confusion_matrix(Y_test, y_pred)\n",
    "print(cm)\n",
    "accuracy_score(Y_test,y_pred)"
   ]
  },
  {
   "cell_type": "markdown",
   "id": "4f04dd70",
   "metadata": {},
   "source": [
    "# Visualising the training set:"
   ]
  },
  {
   "cell_type": "code",
   "execution_count": 10,
   "id": "b7d5cf93",
   "metadata": {},
   "outputs": [
    {
     "name": "stderr",
     "output_type": "stream",
     "text": [
      "*c* argument looks like a single numeric RGB or RGBA sequence, which should be avoided as value-mapping will have precedence in case its length matches with *x* & *y*.  Please use the *color* keyword-argument or provide a 2D array with a single row if you intend to specify the same RGB or RGBA value for all points.\n",
      "*c* argument looks like a single numeric RGB or RGBA sequence, which should be avoided as value-mapping will have precedence in case its length matches with *x* & *y*.  Please use the *color* keyword-argument or provide a 2D array with a single row if you intend to specify the same RGB or RGBA value for all points.\n",
      "*c* argument looks like a single numeric RGB or RGBA sequence, which should be avoided as value-mapping will have precedence in case its length matches with *x* & *y*.  Please use the *color* keyword-argument or provide a 2D array with a single row if you intend to specify the same RGB or RGBA value for all points.\n"
     ]
    },
    {
     "data": {
      "image/png": "[encoded data removed]",
      "text/plain": [
       "<Figure size 432x288 with 1 Axes>"
      ]
     },
     "metadata": {
      "needs_background": "light"
     },
     "output_type": "display_data"
    }
   ],
   "source": [
    "from matplotlib.colors import ListedColormap\n",
    "x_set, y_set = X_train,Y_train\n",
    "X1,X2 = np.meshgrid(np.arange(start = x_set[:,0].min()-1, stop = x_set[:,0].max()+1, step = 0.01),\n",
    "        np.arange(start = x_set[:,1].min()-1, stop = x_set[:,1].max()+1,step = 0.01))\n",
    "plt.contour(X1,X2,classifier.predict(np.array([X1.ravel(),X2.ravel()]).T).reshape(X1.shape),\n",
    "                                    alpha = 0.75,cmap = ListedColormap(('red','green','blue')))\n",
    "plt.xlim(X1.min(),X1.max())\n",
    "plt.ylim(X2.min(),X2.max())\n",
    "\n",
    "for i,j in enumerate(np.unique(y_set)):\n",
    "    plt.scatter(x_set[y_set == j, 0],x_set[y_set == j, 1],\n",
    "               c = ListedColormap(('red','green','blue'))(i),label = j)\n",
    "plt.title('Logistic Regression (Trainig set)')\n",
    "plt.xlabel('PC1')\n",
    "plt.ylabel(\"PC2\")\n",
    "plt.legend()\n",
    "plt.show()"
   ]
  },
  {
   "cell_type": "markdown",
   "id": "0fc6b7cf",
   "metadata": {},
   "source": [
    "# Visualising the test set:¶"
   ]
  },
  {
   "cell_type": "code",
   "execution_count": 11,
   "id": "92c06c7b",
   "metadata": {},
   "outputs": [
    {
     "name": "stderr",
     "output_type": "stream",
     "text": [
      "*c* argument looks like a single numeric RGB or RGBA sequence, which should be avoided as value-mapping will have precedence in case its length matches with *x* & *y*.  Please use the *color* keyword-argument or provide a 2D array with a single row if you intend to specify the same RGB or RGBA value for all points.\n",
      "*c* argument looks like a single numeric RGB or RGBA sequence, which should be avoided as value-mapping will have precedence in case its length matches with *x* & *y*.  Please use the *color* keyword-argument or provide a 2D array with a single row if you intend to specify the same RGB or RGBA value for all points.\n",
      "*c* argument looks like a single numeric RGB or RGBA sequence, which should be avoided as value-mapping will have precedence in case its length matches with *x* & *y*.  Please use the *color* keyword-argument or provide a 2D array with a single row if you intend to specify the same RGB or RGBA value for all points.\n"
     ]
    },
    {
     "data": {
      "image/png": "[encoded data removed]",
      "text/plain": [
       "<Figure size 432x288 with 1 Axes>"
      ]
     },
     "metadata": {
      "needs_background": "light"
     },
     "output_type": "display_data"
    }
   ],
   "source": [
    "from matplotlib.colors import ListedColormap\n",
    "x_set, y_set = X_test,Y_test\n",
    "X1,X2 = np.meshgrid(np.arange(start = x_set[:,0].min()-1, stop = x_set[:,0].max()+1, step = 0.01),\n",
    "        np.arange(start = x_set[:,1].min()-1, stop = x_set[:,1].max()+1,step = 0.01))\n",
    "plt.contour(X1,X2,classifier.predict(np.array([X1.ravel(),X2.ravel()]).T).reshape(X1.shape),\n",
    "                                    alpha = 0.75,cmap = ListedColormap(('red','green','blue')))\n",
    "plt.xlim(X1.min(),X1.max())\n",
    "plt.ylim(X2.min(),X2.max())\n",
    "\n",
    "for i,j in enumerate(np.unique(y_set)):\n",
    "    plt.scatter(x_set[y_set == j, 0],x_set[y_set == j, 1],\n",
    "               c = ListedColormap(('red','green','blue'))(i),label = j)\n",
    "plt.title('Logistic Regression (Trainig set)')\n",
    "plt.xlabel('PC1')\n",
    "plt.ylabel(\"PC2\")\n",
    "plt.legend()\n",
    "plt.show()"
   ]
  },
  {
   "cell_type": "code",
   "execution_count": null,
   "id": "e21bbc7e",
   "metadata": {},
   "outputs": [],
   "source": []
  }
 ],
 "metadata": {
  "kernelspec": {
   "display_name": "Python 3 (ipykernel)",
   "language": "python",
   "name": "python3"
  },
  "language_info": {
   "codemirror_mode": {
    "name": "ipython",
    "version": 3
   },
   "file_extension": ".py",
   "mimetype": "text/x-python",
   "name": "python",
   "nbconvert_exporter": "python",
   "pygments_lexer": "ipython3",
   "version": "3.10.9"
  }
 },
 "nbformat": 4,
 "nbformat_minor": 5
}
