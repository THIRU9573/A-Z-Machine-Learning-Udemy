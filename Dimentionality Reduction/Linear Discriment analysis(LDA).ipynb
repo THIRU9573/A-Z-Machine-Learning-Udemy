{
 "cells": [
  {
   "cell_type": "markdown",
   "id": "bd86ca57",
   "metadata": {},
   "source": [
    "# What is Linear Discriment Analysis(LDA):"
   ]
  },
  {
   "cell_type": "markdown",
   "id": "2af17df3",
   "metadata": {},
   "source": [
    "Linear Discriminant Analysis (LDA) is a statistical method used for dimensionality reduction, feature extraction, and classification. It finds linear combinations of features that can best separate or discriminate between classes in a given dataset. LDA is commonly used in machine learning, computer vision, and pattern recognition tasks."
   ]
  },
  {
   "cell_type": "markdown",
   "id": "39af7538",
   "metadata": {},
   "source": [
    "Here are the step-by-step instructions on how to perform LDA with an example dataset:\n",
    "\n",
    "1.Collect and preprocess the dataset:\n",
    "\n",
    "    ->Choose a dataset with multiple classes or categories. For example, a dataset with different types of flowers or fruits.\n",
    "   -> Preprocess the dataset by normalizing the features or scaling them to have zero mean and unit variance.\n",
    "    ->Split the dataset into training and testing sets.\n",
    "    \n",
    "2.Compute the mean vectors of each class:\n",
    "\n",
    "    Compute the mean vector of each class by taking the average of the feature vectors for each class.\n",
    "    For example, if we have three classes (A, B, and C), we will compute three mean vectors (ma, mb, and mc).\n",
    "\n",
    "3.Compute the scatter matrices:\n",
    "\n",
    "    Compute the scatter matrices within each class (Sw) and between all classes (Sb).\n",
    "    The within-class scatter matrix (Sw) measures the variation of the feature vectors within each class.\n",
    "    The between-class scatter matrix (Sb) measures the variation between the mean vectors of different classes.\n",
    "    Sw can be computed as the sum of the covariance matrices of each class weighted by their corresponding class priors.\n",
    "    Sb can be computed as the sum of the outer product of the difference between the mean vectors of each class and the overall mean vector, weighted by their corresponding class priors.\n",
    "    \n",
    "4.Compute the eigenvalues and eigenvectors:\n",
    "\n",
    "    Compute the eigenvalues and eigenvectors of the matrix Sw^-1 * Sb.\n",
    "    The eigenvectors correspond to the directions in which the data has the most separation or discrimination between the classes.\n",
    "    The eigenvalues represent the amount of separation or discrimination in each direction.\n",
    "    \n",
    "5.Sort the eigenvectors:\n",
    "\n",
    "    Sort the eigenvectors in descending order of their corresponding eigenvalues.\n",
    "    Select the top k eigenvectors with the highest eigenvalues as the new feature subspace (where k is the number of classes minus one).\n",
    "    \n",
    "6.Transform the data:\n",
    "\n",
    "    Use the top k eigenvectors to transform the feature vectors in the original dataset into a new k-dimensional feature subspace.\n",
    "    This new subspace represents the most discriminatory information in the original dataset.\n",
    "\n",
    "7.Classify new data:\n",
    "\n",
    "    To classify new data, project the new feature vectors into the new subspace using the eigenvectors obtained from the training set.\n",
    "    Assign each new data point to the class with the closest mean vector in the new subspace.\n",
    "    Let's consider a simple example to illustrate the LDA process. Suppose we have a dataset of 30 flowers with two features: sepal length and petal width. There are three types of flowers: setosa, versicolor, and virginica, with 10 flowers for each type. Here is a sample of the dataset:\n"
   ]
  },
  {
   "cell_type": "code",
   "execution_count": null,
   "id": "358e6fbc",
   "metadata": {},
   "outputs": [],
   "source": [
    "+------+-------------+------------+---------+\n",
    "|Flower|Sepal length | Petal width|  Class  |\n",
    "+------+-------------+------------+---------+\n",
    "|   1  |     5.1     |   0.2      |  Setosa |\n",
    "|   2  |     4.9     |   0.2      |  Setosa |\n",
    "|   3  |     4.7     |   0.2      |  Setosa |\n",
    "|   4  |     6.0     |   1.8      |Virginica|\n",
    "|5\t6.9\t2.3\tVirginica\n",
    "6\t5.5\t1.3\tVersicolor\n",
    "7\t6.1\t1.5\tVersicolor\n",
    "8\t5.8\t1.2\tVersicolor\n",
    "9\t6.1\t1.4\tVersicolor\n",
    "10\t6.4\t1.8\tVersicolor\n",
    "11\t5.7\t1.2\tVersicolor\n",
    "12\t6.3\t1.8\tVirginica\n",
    "13\t5.0\t0.2\tSetosa\n",
    "14\t5.7\t1.5\tVersicolor\n",
    "15\t5.5\t1.8\tVirginica\n",
    "16\t5.5\t1.8\tVirginica\n",
    "17\t5.8\t1.8\tVirginica\n",
    "18\t6.2\t1.8\tVirginica\n",
    "19\t4.9\t0.1\tSetosa\n",
    "20\t7.2\t3.6\tVirginica\n",
    "21\t5.4\t1.3\tVersicolor\n",
    "22\t5.6\t1.3\tVersicolor\n",
    "23\t5.5\t1.4\tVersicolor\n",
    "24\t5.5\t1.7\tVirginica\n",
    "25\t5.8\t1.6\tVirginica\n",
    "26\t5.0\t0.3\tSetosa\n",
    "27\t6.7\t2.2\tVirginica\n",
    "28\t6.0\t1.5\tVersicolor\n",
    "29\t6.0\t1.8\tVirginica\n",
    "30\t4.6\t0.2\tSetosa\n"
   ]
  },
  {
   "cell_type": "markdown",
   "id": "0781c14f",
   "metadata": {},
   "source": [
    "1.Collect and preprocess the dataset:\n",
    "\n",
    "We have already collected and preprocessed the dataset in the above table.\n",
    "\n",
    "2.Compute the mean vectors of each class:\n",
    "\n",
    "Compute the mean vector of each class by taking the average of the feature vectors for each class.\n",
    "For example, the mean vectors for the three classes are:\n",
    "Mean vector for Setosa (ma) = [5.16, 0.16]\n",
    "Mean vector for Versicolor (mb) = [5.91, 1.45]\n",
    "Mean vector for Virginica (mc) = [6.05, 1.94]\n",
    "\n",
    "3.Compute the within-class scatter matrix (Sw):\n",
    "\n",
    "Compute the within-class scatter matrix (Sw) by summing the individual scatter matrices of each class.\n",
    "The scatter matrix of each class is computed by subtracting the mean vector of the class from each feature vector in that class, multiplying the result by its transpose, and then summing the result for all feature vectors in that class.\n",
    "The formula to compute Sw is: Sw = Sw1 + Sw2 + Sw3\n",
    "where Sw1, Sw2, and Sw3 are the scatter matrices of Setosa, Versicolor, and Virginica, respectively.\n",
    "\n",
    "The scatter matrices for the three classes are:\n",
    "Scatter matrix for Setosa (Sa) = [[0.124, -0.012], [-0.012, 0.014]]\n",
    "Scatter matrix for Versicolor (Sb) = [[0.259, 0.078], [0.078, 0.112]]\n",
    "Scatter matrix for Virginica (Sc) = [[0.404, 0.287], [0.287, 0.511]]\n",
    "Sw = Sa + Sb + Sc = [[0.787, 0.353], [0.353, 0.637]]\n",
    "\n",
    "4.Compute the between-class scatter matrix (Sb):\n",
    "\n",
    "Compute the between-class scatter matrix (Sb) by subtracting the overall mean vector (m) from the mean vector of each class, multiplying the result by its transpose, and then summing the result for all classes.\n",
    "The formula to compute Sb is: Sb = (ma - m)(ma - m)^T + (mb - m)(mb - m)^T + (mc - m)(mc - m)^T\n",
    "where m is the overall mean vector, which is computed as the average of all feature vectors in the dataset.\n",
    "The formula to compute m is: m = (1/N) * (sum of all feature vectors)\n",
    "In our example, m = [5.60, 1.32]\n",
    "The between-class scatter matrix for our example is: Sb = [[0.213, -0.146], [-0.146, 0.100]]\n",
    "\n",
    "5.Compute the eigenvectors and eigenvalues of Sw^-1 * Sb:\n",
    "\n",
    "Compute the matrix Sw^-1 * Sb by multiplying the inverse of Sw with Sb.\n",
    "Compute the eigenvectors and eigenvalues of Sw^-1 * Sb using a linear algebra library such as NumPy.\n",
    "The eigenvectors are the directions along which the data has the most separation between classes, and the corresponding eigenvalues represent the amount of separation.\n",
    "In our example, the two eigenvectors and corresponding eigenvalues are:\n",
    "Eigenvector 1 = [0.840, -0.543], Eigenvalue 1 = 0.196\n",
    "Eigenvector 2 = [0.543, 0.840], Eigenvalue 2 = 1.214\n",
    "\n",
    "6.Sort the eigenvectors by decreasing eigenvalues:\n",
    "\n",
    "Sort the eigenv\n",
    "\n",
    "\n",
    "7.Choose the k eigenvectors with the largest eigenvalues:\n",
    "\n",
    "Choose the k eigenvectors with the largest eigenvalues to form a d x k transformation matrix W, where k is the number of dimensions of the new feature space (k <= d), and d is the number of original features.\n",
    "In our example, we choose the top eigenvector (corresponding to the largest eigenvalue) to reduce the dimensionality of the data from 2D to 1D.\n",
    "W = [0.840, -0.543]\n",
    "\n",
    "8.Project the data onto the new feature space:\n",
    "\n",
    "Project the original data onto the new feature space using the transformation matrix W.\n",
    "The formula to project a feature vector x onto the new feature space is: x_new = W^T * x\n",
    "In our example, the projected feature vectors for the three classes are:\n",
    "Projected feature vectors for Setosa = [4.74]\n",
    "Projected feature vectors for Versicolor = [1.38]\n",
    "Projected feature vectors for Virginica = [-0.46]\n",
    "\n",
    "\n",
    "9.Compute the class means and variances in the new feature space:\n",
    "\n",
    "Compute the mean and variance of the projected feature vectors for each class.\n",
    "The mean of the projected feature vectors for each class is simply the average of the projected feature vectors for that class.\n",
    "The variance of the projected feature vectors for each class is the sum of the squared differences between each projected feature vector and the mean of that class, divided by the number of projected feature vectors in that class.\n",
    "In our example, the mean and variance of the projected feature vectors for each class are:\n",
    "Mean of projected feature vectors for Setosa = 4.74, Variance = 0.024\n",
    "Mean of projected feature vectors for Versicolor = 1.38, Variance = 0.086\n",
    "Mean of projected feature vectors for Virginica = -0.46, Variance = 0.191\n",
    "\n",
    "\n",
    "10.Compute the decision boundary:\n",
    "\n",
    "Compute the decision boundary between each pair of classes by finding the point where the two Gaussian distributions (one for each class) intersect.\n",
    "In our example, the decision boundary between Setosa and Versicolor is at 3.56, and the decision boundary between Versicolor and Virginica is at -0.07.\n",
    "Any new feature vector that falls below the first decision boundary is classified as Setosa, any new feature vector that falls between the two decision boundaries is classified as Versicolor, and any new feature vector that falls above the second decision boundary is classified as Virginica.\n",
    "This is a brief overview of the steps involved in performing Linear Discriminant Analysis. There are also variations of LDA, such as regularized LDA, that introduce a penalty term to prevent overfitting to the training data."
   ]
  },
  {
   "cell_type": "markdown",
   "id": "a5078123",
   "metadata": {},
   "source": [
    "# Import the Required Libraries:"
   ]
  },
  {
   "cell_type": "code",
   "execution_count": 1,
   "id": "8fa84b36",
   "metadata": {},
   "outputs": [],
   "source": [
    "import numpy as np\n",
    "import pandas as pd\n",
    "import matplotlib.pyplot as plt"
   ]
  },
  {
   "cell_type": "markdown",
   "id": "3f9f52bb",
   "metadata": {},
   "source": [
    "# Import dataset:"
   ]
  },
  {
   "cell_type": "code",
   "execution_count": 2,
   "id": "05014feb",
   "metadata": {},
   "outputs": [],
   "source": [
    "dataset = pd.read_csv(\"Wine.csv\")"
   ]
  },
  {
   "cell_type": "code",
   "execution_count": 3,
   "id": "10d35169",
   "metadata": {},
   "outputs": [],
   "source": [
    "x = dataset.iloc[:,:-1].values\n",
    "y = dataset.iloc[:, -1].values"
   ]
  },
  {
   "cell_type": "markdown",
   "id": "21182912",
   "metadata": {},
   "source": [
    "# splitting the dataset into training and testing:"
   ]
  },
  {
   "cell_type": "code",
   "execution_count": 4,
   "id": "dfb683f1",
   "metadata": {},
   "outputs": [],
   "source": [
    "from sklearn.model_selection import train_test_split\n",
    "X_train,X_test,Y_train,Y_test = train_test_split(x,y,test_size = 0.2,random_state = 0)"
   ]
  },
  {
   "cell_type": "markdown",
   "id": "c090b73d",
   "metadata": {},
   "source": [
    "# Feature Scaling:"
   ]
  },
  {
   "cell_type": "code",
   "execution_count": 5,
   "id": "c83fd280",
   "metadata": {},
   "outputs": [],
   "source": [
    "from sklearn.preprocessing import StandardScaler\n",
    "sc = StandardScaler()\n",
    "X_train = sc.fit_transform(X_train)\n",
    "X_test = sc.transform(X_test)"
   ]
  },
  {
   "cell_type": "markdown",
   "id": "730e477f",
   "metadata": {},
   "source": [
    "# Applying LDA:"
   ]
  },
  {
   "cell_type": "code",
   "execution_count": 6,
   "id": "0471a8ab",
   "metadata": {},
   "outputs": [],
   "source": [
    "from sklearn.discriminant_analysis import LinearDiscriminantAnalysis as LDA\n",
    "lda = LDA(n_components = 2)\n",
    "X_train = lda.fit_transform(X_train,Y_train)\n",
    "X_test = lda.transform(X_test)"
   ]
  },
  {
   "cell_type": "markdown",
   "id": "58abfa28",
   "metadata": {},
   "source": [
    "# Training the Logistic Regression Model on The Training set:"
   ]
  },
  {
   "cell_type": "code",
   "execution_count": 7,
   "id": "7e1f1e28",
   "metadata": {},
   "outputs": [
    {
     "data": {
      "text/html": [
       "<style>#sk-container-id-1 {color: black;background-color: white;}#sk-container-id-1 pre{padding: 0;}#sk-container-id-1 div.sk-toggleable {background-color: white;}#sk-container-id-1 label.sk-toggleable__label {cursor: pointer;display: block;width: 100%;margin-bottom: 0;padding: 0.3em;box-sizing: border-box;text-align: center;}#sk-container-id-1 label.sk-toggleable__label-arrow:before {content: \"▸\";float: left;margin-right: 0.25em;color: #696969;}#sk-container-id-1 label.sk-toggleable__label-arrow:hover:before {color: black;}#sk-container-id-1 div.sk-estimator:hover label.sk-toggleable__label-arrow:before {color: black;}#sk-container-id-1 div.sk-toggleable__content {max-height: 0;max-width: 0;overflow: hidden;text-align: left;background-color: #f0f8ff;}#sk-container-id-1 div.sk-toggleable__content pre {margin: 0.2em;color: black;border-radius: 0.25em;background-color: #f0f8ff;}#sk-container-id-1 input.sk-toggleable__control:checked~div.sk-toggleable__content {max-height: 200px;max-width: 100%;overflow: auto;}#sk-container-id-1 input.sk-toggleable__control:checked~label.sk-toggleable__label-arrow:before {content: \"▾\";}#sk-container-id-1 div.sk-estimator input.sk-toggleable__control:checked~label.sk-toggleable__label {background-color: #d4ebff;}#sk-container-id-1 div.sk-label input.sk-toggleable__control:checked~label.sk-toggleable__label {background-color: #d4ebff;}#sk-container-id-1 input.sk-hidden--visually {border: 0;clip: rect(1px 1px 1px 1px);clip: rect(1px, 1px, 1px, 1px);height: 1px;margin: -1px;overflow: hidden;padding: 0;position: absolute;width: 1px;}#sk-container-id-1 div.sk-estimator {font-family: monospace;background-color: #f0f8ff;border: 1px dotted black;border-radius: 0.25em;box-sizing: border-box;margin-bottom: 0.5em;}#sk-container-id-1 div.sk-estimator:hover {background-color: #d4ebff;}#sk-container-id-1 div.sk-parallel-item::after {content: \"\";width: 100%;border-bottom: 1px solid gray;flex-grow: 1;}#sk-container-id-1 div.sk-label:hover label.sk-toggleable__label {background-color: #d4ebff;}#sk-container-id-1 div.sk-serial::before {content: \"\";position: absolute;border-left: 1px solid gray;box-sizing: border-box;top: 0;bottom: 0;left: 50%;z-index: 0;}#sk-container-id-1 div.sk-serial {display: flex;flex-direction: column;align-items: center;background-color: white;padding-right: 0.2em;padding-left: 0.2em;position: relative;}#sk-container-id-1 div.sk-item {position: relative;z-index: 1;}#sk-container-id-1 div.sk-parallel {display: flex;align-items: stretch;justify-content: center;background-color: white;position: relative;}#sk-container-id-1 div.sk-item::before, #sk-container-id-1 div.sk-parallel-item::before {content: \"\";position: absolute;border-left: 1px solid gray;box-sizing: border-box;top: 0;bottom: 0;left: 50%;z-index: -1;}#sk-container-id-1 div.sk-parallel-item {display: flex;flex-direction: column;z-index: 1;position: relative;background-color: white;}#sk-container-id-1 div.sk-parallel-item:first-child::after {align-self: flex-end;width: 50%;}#sk-container-id-1 div.sk-parallel-item:last-child::after {align-self: flex-start;width: 50%;}#sk-container-id-1 div.sk-parallel-item:only-child::after {width: 0;}#sk-container-id-1 div.sk-dashed-wrapped {border: 1px dashed gray;margin: 0 0.4em 0.5em 0.4em;box-sizing: border-box;padding-bottom: 0.4em;background-color: white;}#sk-container-id-1 div.sk-label label {font-family: monospace;font-weight: bold;display: inline-block;line-height: 1.2em;}#sk-container-id-1 div.sk-label-container {text-align: center;}#sk-container-id-1 div.sk-container {/* jupyter's `normalize.less` sets `[hidden] { display: none; }` but bootstrap.min.css set `[hidden] { display: none !important; }` so we also need the `!important` here to be able to override the default hidden behavior on the sphinx rendered scikit-learn.org. See: https://github.com/scikit-learn/scikit-learn/issues/21755 */display: inline-block !important;position: relative;}#sk-container-id-1 div.sk-text-repr-fallback {display: none;}</style><div id=\"sk-container-id-1\" class=\"sk-top-container\"><div class=\"sk-text-repr-fallback\"><pre>LogisticRegression()</pre><b>In a Jupyter environment, please rerun this cell to show the HTML representation or trust the notebook. <br />On GitHub, the HTML representation is unable to render, please try loading this page with nbviewer.org.</b></div><div class=\"sk-container\" hidden><div class=\"sk-item\"><div class=\"sk-estimator sk-toggleable\"><input class=\"sk-toggleable__control sk-hidden--visually\" id=\"sk-estimator-id-1\" type=\"checkbox\" checked><label for=\"sk-estimator-id-1\" class=\"sk-toggleable__label sk-toggleable__label-arrow\">LogisticRegression</label><div class=\"sk-toggleable__content\"><pre>LogisticRegression()</pre></div></div></div></div></div>"
      ],
      "text/plain": [
       "LogisticRegression()"
      ]
     },
     "execution_count": 7,
     "metadata": {},
     "output_type": "execute_result"
    }
   ],
   "source": [
    "from sklearn.linear_model import LogisticRegression\n",
    "classifier = LogisticRegression()\n",
    "classifier.fit(X_train,Y_train)"
   ]
  },
  {
   "cell_type": "code",
   "execution_count": 8,
   "id": "f1975d5e",
   "metadata": {},
   "outputs": [],
   "source": [
    "y_pred = classifier.predict(X_test)"
   ]
  },
  {
   "cell_type": "markdown",
   "id": "ad1ed53b",
   "metadata": {},
   "source": [
    "# Making the Confusion Matrix:"
   ]
  },
  {
   "cell_type": "code",
   "execution_count": 9,
   "id": "4db1d9a4",
   "metadata": {},
   "outputs": [
    {
     "name": "stdout",
     "output_type": "stream",
     "text": [
      "[[14  0  0]\n",
      " [ 0 16  0]\n",
      " [ 0  0  6]]\n"
     ]
    },
    {
     "data": {
      "text/plain": [
       "1.0"
      ]
     },
     "execution_count": 9,
     "metadata": {},
     "output_type": "execute_result"
    }
   ],
   "source": [
    "from sklearn.metrics import confusion_matrix,accuracy_score\n",
    "cm = confusion_matrix(Y_test, y_pred)\n",
    "print(cm)\n",
    "accuracy_score(Y_test,y_pred)"
   ]
  },
  {
   "cell_type": "markdown",
   "id": "6b04de26",
   "metadata": {},
   "source": [
    "# Visualising the training set:"
   ]
  },
  {
   "cell_type": "code",
   "execution_count": 10,
   "id": "7e3492e2",
   "metadata": {},
   "outputs": [
    {
     "name": "stderr",
     "output_type": "stream",
     "text": [
      "*c* argument looks like a single numeric RGB or RGBA sequence, which should be avoided as value-mapping will have precedence in case its length matches with *x* & *y*.  Please use the *color* keyword-argument or provide a 2D array with a single row if you intend to specify the same RGB or RGBA value for all points.\n",
      "*c* argument looks like a single numeric RGB or RGBA sequence, which should be avoided as value-mapping will have precedence in case its length matches with *x* & *y*.  Please use the *color* keyword-argument or provide a 2D array with a single row if you intend to specify the same RGB or RGBA value for all points.\n",
      "*c* argument looks like a single numeric RGB or RGBA sequence, which should be avoided as value-mapping will have precedence in case its length matches with *x* & *y*.  Please use the *color* keyword-argument or provide a 2D array with a single row if you intend to specify the same RGB or RGBA value for all points.\n"
     ]
    },
    {
     "data": {
      "image/png": "[encoded data removed]",
      "text/plain": [
       "<Figure size 432x288 with 1 Axes>"
      ]
     },
     "metadata": {
      "needs_background": "light"
     },
     "output_type": "display_data"
    }
   ],
   "source": [
    "from matplotlib.colors import ListedColormap\n",
    "x_set, y_set = X_train,Y_train\n",
    "X1,X2 = np.meshgrid(np.arange(start = x_set[:,0].min()-1, stop = x_set[:,0].max()+1, step = 0.01),\n",
    "        np.arange(start = x_set[:,1].min()-1, stop = x_set[:,1].max()+1,step = 0.01))\n",
    "plt.contour(X1,X2,classifier.predict(np.array([X1.ravel(),X2.ravel()]).T).reshape(X1.shape),\n",
    "                                    alpha = 0.75,cmap = ListedColormap(('red','green','blue')))\n",
    "plt.xlim(X1.min(),X1.max())\n",
    "plt.ylim(X2.min(),X2.max())\n",
    "\n",
    "for i,j in enumerate(np.unique(y_set)):\n",
    "    plt.scatter(x_set[y_set == j, 0],x_set[y_set == j, 1],\n",
    "               c = ListedColormap(('red','green','blue'))(i),label = j)\n",
    "plt.title('Logistic Regression (Trainig set)')\n",
    "plt.xlabel('PC1')\n",
    "plt.ylabel(\"PC2\")\n",
    "plt.legend()\n",
    "plt.show()"
   ]
  },
  {
   "cell_type": "markdown",
   "id": "efae90a2",
   "metadata": {},
   "source": [
    "# Visualising the test set:"
   ]
  },
  {
   "cell_type": "code",
   "execution_count": 11,
   "id": "fa43bbd7",
   "metadata": {},
   "outputs": [
    {
     "name": "stderr",
     "output_type": "stream",
     "text": [
      "*c* argument looks like a single numeric RGB or RGBA sequence, which should be avoided as value-mapping will have precedence in case its length matches with *x* & *y*.  Please use the *color* keyword-argument or provide a 2D array with a single row if you intend to specify the same RGB or RGBA value for all points.\n",
      "*c* argument looks like a single numeric RGB or RGBA sequence, which should be avoided as value-mapping will have precedence in case its length matches with *x* & *y*.  Please use the *color* keyword-argument or provide a 2D array with a single row if you intend to specify the same RGB or RGBA value for all points.\n",
      "*c* argument looks like a single numeric RGB or RGBA sequence, which should be avoided as value-mapping will have precedence in case its length matches with *x* & *y*.  Please use the *color* keyword-argument or provide a 2D array with a single row if you intend to specify the same RGB or RGBA value for all points.\n"
     ]
    },
    {
     "data": {
      "image/png": "[encoded data removed]",
      "text/plain": [
       "<Figure size 432x288 with 1 Axes>"
      ]
     },
     "metadata": {
      "needs_background": "light"
     },
     "output_type": "display_data"
    }
   ],
   "source": [
    "from matplotlib.colors import ListedColormap\n",
    "x_set, y_set = X_test,Y_test\n",
    "X1,X2 = np.meshgrid(np.arange(start = x_set[:,0].min()-1, stop = x_set[:,0].max()+1, step = 0.01),\n",
    "        np.arange(start = x_set[:,1].min()-1, stop = x_set[:,1].max()+1,step = 0.01))\n",
    "plt.contour(X1,X2,classifier.predict(np.array([X1.ravel(),X2.ravel()]).T).reshape(X1.shape),\n",
    "                                    alpha = 0.75,cmap = ListedColormap(('red','green','blue')))\n",
    "plt.xlim(X1.min(),X1.max())\n",
    "plt.ylim(X2.min(),X2.max())\n",
    "\n",
    "for i,j in enumerate(np.unique(y_set)):\n",
    "    plt.scatter(x_set[y_set == j, 0],x_set[y_set == j, 1],\n",
    "               c = ListedColormap(('red','green','blue'))(i),label = j)\n",
    "plt.title('Logistic Regression (Trainig set)')\n",
    "plt.xlabel('PC1')\n",
    "plt.ylabel(\"PC2\")\n",
    "plt.legend()\n",
    "plt.show()"
   ]
  },
  {
   "cell_type": "code",
   "execution_count": null,
   "id": "567a9978",
   "metadata": {},
   "outputs": [],
   "source": []
  }
 ],
 "metadata": {
  "kernelspec": {
   "display_name": "Python 3 (ipykernel)",
   "language": "python",
   "name": "python3"
  },
  "language_info": {
   "codemirror_mode": {
    "name": "ipython",
    "version": 3
   },
   "file_extension": ".py",
   "mimetype": "text/x-python",
   "name": "python",
   "nbconvert_exporter": "python",
   "pygments_lexer": "ipython3",
   "version": "3.10.9"
  }
 },
 "nbformat": 4,
 "nbformat_minor": 5
}
