{
 "cells": [
  {
   "cell_type": "markdown",
   "id": "89b85f68",
   "metadata": {},
   "source": [
    "# What is Principal Component Analysis:"
   ]
  },
  {
   "cell_type": "markdown",
   "id": "9948081b",
   "metadata": {},
   "source": [
    "Principal Component Analysis (PCA) is a technique used in data analysis to reduce the dimensionality of a dataset while retaining as much of the original variation as possible. It is commonly used in fields such as finance, biology, and computer science.\n",
    "\n",
    "PCA involves transforming a dataset of correlated variables into a new set of uncorrelated variables called principal components (PCs), which are linear combinations of the original variables. The first PC captures the maximum amount of variation in the data, the second PC captures the maximum amount of variation that is orthogonal to the first, and so on.\n",
    "\n",
    "Here is an example of how PCA works using a real dataset:\n",
    "\n",
    "Suppose we have a dataset of 10 observations (rows) and 4 variables (columns) representing measurements of different physical characteristics of 10 different fruits. The dataset might look like this:\n",
    "\n",
    "Fruit\tWeight (g)\tLength (cm)\tWidth (cm)\tColor (RGB)\n",
    "Apple\t120\t8.0\t6.0\t(255,0,0)\n",
    "Banana\t150\t12.0\t4.0\t(255,255,0)\n",
    "Orange\t100\t6.0\t6.0\t(255,165,0)\n",
    "Kiwi\t50\t5.0\t3.0\t(0,128,0)\n",
    "Pineapple\t700\t20.0\t10.0\t(255,255,0)\n",
    "Grape\t5\t2.0\t1.0\t(128,0,128)\n",
    "Mango\t300\t15.0\t8.0\t(255,165,0)\n",
    "Pear\t250\t10.0\t7.0\t(0,255,0)\n",
    "Watermelon\t500\t25.0\t12.0\t(0,255,255)\n",
    "Cherry\t1\t1.0\t1.0\t(255,0,0)\n",
    "We want to perform PCA to reduce the dimensionality of the dataset and identify the most important features that distinguish the fruits from each other.\n",
    "\n",
    "Step 1: Standardize the Data\n",
    "The first step in PCA is to standardize the data by subtracting the mean of each variable and dividing by its standard deviation. This is necessary because PCA is sensitive to the scale of the variables. The standardized dataset would look like this:\n",
    "\n",
    "Fruit\tWeight (g)\tLength (cm)\tWidth (cm)\tColor (RGB)\n",
    "Apple\t-0.083\t-0.330\t-0.188\t(0.904,-1.304,-1.304)\n",
    "Banana\t0.250\t1.151\t-1.105\t(0.904,0.666,0.666)\n",
    "Orange\t-0.416\t-0.997\t-0.188\t(0.904,-0.012,-0.012)\n",
    "Kiwi\t-1.083\t-1.330\t-1.694\t(-1.105,-0.845,-0.845)\n",
    "Pineapple\t2.833\t2.148\t2.492\t(0\n",
    "\n",
    "Step 2: Calculate the Covariance Matrix\n",
    "The second step in PCA is to calculate the covariance matrix of the standardized data. The covariance matrix shows how each variable is related to every other variable in the dataset. We can calculate the covariance matrix using the following formula:\n",
    "\n",
    "Covariance Matrix = (X^T * X) / (n-1)\n",
    "\n",
    "where X is the standardized dataset, X^T is its transpose, and n is the number of observations. The resulting covariance matrix would look like this:\n",
    "\n",
    "Weight (g)\tLength (cm)\tWidth (cm)\tColor (RGB)\n",
    "Weight (g)\t1.00\t0.90\t0.90\t0.18\n",
    "Length (cm)\t0.90\t1.00\t0.99\t0.15\n",
    "Width (cm)\t0.90\t0.99\t1.00\t0.16\n",
    "Color (RGB)\t0.18\t0.15\t0.16\t1.00\n",
    "The diagonal elements of the covariance matrix represent the variances of each variable, while the off-diagonal elements represent the covariances between each pair of variables.\n",
    "\n",
    "Step 3: Calculate the Eigenvectors and Eigenvalues\n",
    "The third step in PCA is to calculate the eigenvectors and eigenvalues of the covariance matrix. The eigenvectors represent the directions in which the data vary the most, while the eigenvalues represent the amount of variance explained by each eigenvector.\n",
    "\n",
    "We can calculate the eigenvectors and eigenvalues using the following formula:\n",
    "\n",
    "eigenvectors, eigenvalues = eig(Covariance Matrix)\n",
    "\n",
    "where eig() is a function that returns the eigenvectors and eigenvalues of a matrix. The resulting eigenvectors and eigenvalues would look like this:\n",
    "\n",
    "PC1\tPC2\tPC3\tPC4\n",
    "Eigenvectors\t0.58\t-0.81\t-0.03\t0.03\n",
    "-0.57\t-0.36\t-0.72\t0.12\n",
    "-0.56\t0.45\t-0.51\t-0.47\n",
    "0.15\t0.09\t0.47\t0.86\n",
    "PC1\tPC2\tPC3\tPC4\n",
    "Eigenvalues\t3.15\t0.84\t0.01\t0.00\n",
    "The eigenvectors are arranged in columns, with each column representing a principal component. The eigenvalues are arranged in descending order, with the first eigenvalue representing the amount of variance explained by the first principal component, the second eigenvalue representing the amount of variance explained by the second principal component, and so on.\n",
    "\n",
    "Step 4: Choose the Number of Principal Components\n",
    "The fourth step in PCA is to choose the number of principal components to keep. This decision is based on the amount of variance explained by each principal component. A common rule of thumb is to keep enough principal components to explain at least 80% of the total variance in the data.\n",
    "\n",
    "In our example, the first two principal components explain 99% of the total variance in the data, so we can choose to keep only these two principal components.\n",
    "\n",
    "Step 5: Project the Data onto the Principal Components\n",
    "The final step\n"
   ]
  },
  {
   "cell_type": "raw",
   "id": "ae1ed419",
   "metadata": {},
   "source": [
    "Q: What is PCA and what is it used for?\n",
    "A: PCA (Principal Component Analysis) is a statistical technique used to reduce the dimensionality of large datasets while retaining as much of the original variation as possible. It is used to identify patterns in data, detect outliers, and visualize complex datasets.\n",
    "\n",
    "Q: How does PCA work?\n",
    "A: PCA works by transforming a dataset into a new coordinate system where the variables are uncorrelated and the first principal component explains the most variance in the data. The first step is to standardize the data to have a mean of 0 and a standard deviation of 1. Next, the covariance matrix is calculated, and the eigenvectors and eigenvalues of the covariance matrix are computed. The eigenvectors are then used to create the principal components, which are linear combinations of the original variables. Finally, the data is projected onto the principal components to obtain a lower-dimensional representation of the original data.\n",
    "\n",
    "Q: What is the difference between PCA and linear regression?\n",
    "A: PCA is a technique for dimensionality reduction, while linear regression is a method for modeling the relationship between two or more variables. PCA is used to find patterns and structure in a dataset, while linear regression is used to predict the value of a dependent variable based on one or more independent variables.\n",
    "\n",
    "Q: How do you determine the number of principal components to retain in PCA?\n",
    "A: The number of principal components to retain in PCA is determined by examining the eigenvalues of the covariance matrix. A common rule of thumb is to retain enough principal components to explain at least 80% of the variance in the data.\n",
    "\n",
    "Q: Can PCA be used for feature selection?\n",
    "A: Yes, PCA can be used for feature selection by identifying the principal components that explain the most variance in the data and using those components as features in a machine learning model. However, it is important to note that PCA may not always be the best method for feature selection, as it can lead to the loss of interpretability and may not necessarily improve model performance.\n",
    "\n",
    "Q: What are some limitations of PCA?\n",
    "A: One limitation of PCA is that it assumes that the data is linearly related, which may not always be the case in real-world datasets. Additionally, PCA may not be suitable for datasets with a small number of observations or highly correlated variables. Finally, interpreting the results of PCA can be challenging, as the principal components may not have a direct physical interpretation.\n",
    "\n",
    "\n",
    "\n"
   ]
  },
  {
   "cell_type": "markdown",
   "id": "7e0621f1",
   "metadata": {},
   "source": [
    "# Import the Required Libraries:"
   ]
  },
  {
   "cell_type": "code",
   "execution_count": 1,
   "id": "ae78dfad",
   "metadata": {},
   "outputs": [],
   "source": [
    "import numpy as np\n",
    "import pandas as pd\n",
    "import matplotlib.pyplot as plt"
   ]
  },
  {
   "cell_type": "markdown",
   "id": "41905fe2",
   "metadata": {},
   "source": [
    "# Import the dataset:"
   ]
  },
  {
   "cell_type": "code",
   "execution_count": 2,
   "id": "7d960347",
   "metadata": {},
   "outputs": [],
   "source": [
    "dataset = pd.read_csv(\"Wine.csv\")\n",
    "x = dataset.iloc[:,:-1].values\n",
    "y = dataset.iloc[: ,-1].values"
   ]
  },
  {
   "cell_type": "markdown",
   "id": "a2dad3ec",
   "metadata": {},
   "source": [
    "# Splitting the dataset into training and  test set:"
   ]
  },
  {
   "cell_type": "code",
   "execution_count": 3,
   "id": "6b6930c2",
   "metadata": {},
   "outputs": [],
   "source": [
    "from sklearn.model_selection import train_test_split\n",
    "X_train,X_test,Y_train,Y_test = train_test_split(x,y, test_size = 0.2,random_state = 0)"
   ]
  },
  {
   "cell_type": "markdown",
   "id": "404b80a3",
   "metadata": {},
   "source": [
    "# Feature Scalining:"
   ]
  },
  {
   "cell_type": "code",
   "execution_count": 4,
   "id": "103ce3ec",
   "metadata": {},
   "outputs": [],
   "source": [
    "from sklearn.preprocessing import StandardScaler\n",
    "sc = StandardScaler()\n",
    "X_train = sc.fit_transform(X_train)\n",
    "X_test = sc.transform(X_test)"
   ]
  },
  {
   "cell_type": "markdown",
   "id": "20e2192b",
   "metadata": {},
   "source": [
    "# Applying the PCA:"
   ]
  },
  {
   "cell_type": "code",
   "execution_count": 6,
   "id": "a2b633e5",
   "metadata": {},
   "outputs": [],
   "source": [
    "from sklearn.decomposition import PCA\n",
    "pca = PCA(n_components = 2)\n",
    "X_train = pca.fit_transform(X_train)\n",
    "X_test = pca.transform(X_test)"
   ]
  },
  {
   "cell_type": "markdown",
   "id": "b5a5729f",
   "metadata": {},
   "source": [
    "# Training the Logistic Regression Model on The Training set:"
   ]
  },
  {
   "cell_type": "code",
   "execution_count": 7,
   "id": "7863c100",
   "metadata": {},
   "outputs": [
    {
     "data": {
      "text/html": [
       "<style>#sk-container-id-1 {color: black;background-color: white;}#sk-container-id-1 pre{padding: 0;}#sk-container-id-1 div.sk-toggleable {background-color: white;}#sk-container-id-1 label.sk-toggleable__label {cursor: pointer;display: block;width: 100%;margin-bottom: 0;padding: 0.3em;box-sizing: border-box;text-align: center;}#sk-container-id-1 label.sk-toggleable__label-arrow:before {content: \"▸\";float: left;margin-right: 0.25em;color: #696969;}#sk-container-id-1 label.sk-toggleable__label-arrow:hover:before {color: black;}#sk-container-id-1 div.sk-estimator:hover label.sk-toggleable__label-arrow:before {color: black;}#sk-container-id-1 div.sk-toggleable__content {max-height: 0;max-width: 0;overflow: hidden;text-align: left;background-color: #f0f8ff;}#sk-container-id-1 div.sk-toggleable__content pre {margin: 0.2em;color: black;border-radius: 0.25em;background-color: #f0f8ff;}#sk-container-id-1 input.sk-toggleable__control:checked~div.sk-toggleable__content {max-height: 200px;max-width: 100%;overflow: auto;}#sk-container-id-1 input.sk-toggleable__control:checked~label.sk-toggleable__label-arrow:before {content: \"▾\";}#sk-container-id-1 div.sk-estimator input.sk-toggleable__control:checked~label.sk-toggleable__label {background-color: #d4ebff;}#sk-container-id-1 div.sk-label input.sk-toggleable__control:checked~label.sk-toggleable__label {background-color: #d4ebff;}#sk-container-id-1 input.sk-hidden--visually {border: 0;clip: rect(1px 1px 1px 1px);clip: rect(1px, 1px, 1px, 1px);height: 1px;margin: -1px;overflow: hidden;padding: 0;position: absolute;width: 1px;}#sk-container-id-1 div.sk-estimator {font-family: monospace;background-color: #f0f8ff;border: 1px dotted black;border-radius: 0.25em;box-sizing: border-box;margin-bottom: 0.5em;}#sk-container-id-1 div.sk-estimator:hover {background-color: #d4ebff;}#sk-container-id-1 div.sk-parallel-item::after {content: \"\";width: 100%;border-bottom: 1px solid gray;flex-grow: 1;}#sk-container-id-1 div.sk-label:hover label.sk-toggleable__label {background-color: #d4ebff;}#sk-container-id-1 div.sk-serial::before {content: \"\";position: absolute;border-left: 1px solid gray;box-sizing: border-box;top: 0;bottom: 0;left: 50%;z-index: 0;}#sk-container-id-1 div.sk-serial {display: flex;flex-direction: column;align-items: center;background-color: white;padding-right: 0.2em;padding-left: 0.2em;position: relative;}#sk-container-id-1 div.sk-item {position: relative;z-index: 1;}#sk-container-id-1 div.sk-parallel {display: flex;align-items: stretch;justify-content: center;background-color: white;position: relative;}#sk-container-id-1 div.sk-item::before, #sk-container-id-1 div.sk-parallel-item::before {content: \"\";position: absolute;border-left: 1px solid gray;box-sizing: border-box;top: 0;bottom: 0;left: 50%;z-index: -1;}#sk-container-id-1 div.sk-parallel-item {display: flex;flex-direction: column;z-index: 1;position: relative;background-color: white;}#sk-container-id-1 div.sk-parallel-item:first-child::after {align-self: flex-end;width: 50%;}#sk-container-id-1 div.sk-parallel-item:last-child::after {align-self: flex-start;width: 50%;}#sk-container-id-1 div.sk-parallel-item:only-child::after {width: 0;}#sk-container-id-1 div.sk-dashed-wrapped {border: 1px dashed gray;margin: 0 0.4em 0.5em 0.4em;box-sizing: border-box;padding-bottom: 0.4em;background-color: white;}#sk-container-id-1 div.sk-label label {font-family: monospace;font-weight: bold;display: inline-block;line-height: 1.2em;}#sk-container-id-1 div.sk-label-container {text-align: center;}#sk-container-id-1 div.sk-container {/* jupyter's `normalize.less` sets `[hidden] { display: none; }` but bootstrap.min.css set `[hidden] { display: none !important; }` so we also need the `!important` here to be able to override the default hidden behavior on the sphinx rendered scikit-learn.org. See: https://github.com/scikit-learn/scikit-learn/issues/21755 */display: inline-block !important;position: relative;}#sk-container-id-1 div.sk-text-repr-fallback {display: none;}</style><div id=\"sk-container-id-1\" class=\"sk-top-container\"><div class=\"sk-text-repr-fallback\"><pre>LogisticRegression()</pre><b>In a Jupyter environment, please rerun this cell to show the HTML representation or trust the notebook. <br />On GitHub, the HTML representation is unable to render, please try loading this page with nbviewer.org.</b></div><div class=\"sk-container\" hidden><div class=\"sk-item\"><div class=\"sk-estimator sk-toggleable\"><input class=\"sk-toggleable__control sk-hidden--visually\" id=\"sk-estimator-id-1\" type=\"checkbox\" checked><label for=\"sk-estimator-id-1\" class=\"sk-toggleable__label sk-toggleable__label-arrow\">LogisticRegression</label><div class=\"sk-toggleable__content\"><pre>LogisticRegression()</pre></div></div></div></div></div>"
      ],
      "text/plain": [
       "LogisticRegression()"
      ]
     },
     "execution_count": 7,
     "metadata": {},
     "output_type": "execute_result"
    }
   ],
   "source": [
    "from sklearn.linear_model import LogisticRegression\n",
    "classifier = LogisticRegression()\n",
    "classifier.fit(X_train,Y_train)"
   ]
  },
  {
   "cell_type": "code",
   "execution_count": 8,
   "id": "03e81494",
   "metadata": {},
   "outputs": [],
   "source": [
    "y_pred = classifier.predict(X_test)"
   ]
  },
  {
   "cell_type": "markdown",
   "id": "9cf5656c",
   "metadata": {},
   "source": [
    "# Making the confusion matrix :"
   ]
  },
  {
   "cell_type": "code",
   "execution_count": 9,
   "id": "3fc62e8e",
   "metadata": {},
   "outputs": [
    {
     "name": "stdout",
     "output_type": "stream",
     "text": [
      "[[14  0  0]\n",
      " [ 1 15  0]\n",
      " [ 0  0  6]]\n"
     ]
    },
    {
     "data": {
      "text/plain": [
       "0.9722222222222222"
      ]
     },
     "execution_count": 9,
     "metadata": {},
     "output_type": "execute_result"
    }
   ],
   "source": [
    "from sklearn.metrics import confusion_matrix,accuracy_score\n",
    "cm = confusion_matrix(Y_test, y_pred)\n",
    "print(cm)\n",
    "accuracy_score(Y_test,y_pred)"
   ]
  },
  {
   "cell_type": "markdown",
   "id": "17217ca1",
   "metadata": {},
   "source": [
    "# Visualising the training set:"
   ]
  },
  {
   "cell_type": "code",
   "execution_count": 16,
   "id": "ec295118",
   "metadata": {},
   "outputs": [
    {
     "name": "stderr",
     "output_type": "stream",
     "text": [
      "*c* argument looks like a single numeric RGB or RGBA sequence, which should be avoided as value-mapping will have precedence in case its length matches with *x* & *y*.  Please use the *color* keyword-argument or provide a 2D array with a single row if you intend to specify the same RGB or RGBA value for all points.\n",
      "*c* argument looks like a single numeric RGB or RGBA sequence, which should be avoided as value-mapping will have precedence in case its length matches with *x* & *y*.  Please use the *color* keyword-argument or provide a 2D array with a single row if you intend to specify the same RGB or RGBA value for all points.\n",
      "*c* argument looks like a single numeric RGB or RGBA sequence, which should be avoided as value-mapping will have precedence in case its length matches with *x* & *y*.  Please use the *color* keyword-argument or provide a 2D array with a single row if you intend to specify the same RGB or RGBA value for all points.\n"
     ]
    },
    {
     "data": {
      "image/png": "[encoded data removed]",
      "text/plain": [
       "<Figure size 432x288 with 1 Axes>"
      ]
     },
     "metadata": {
      "needs_background": "light"
     },
     "output_type": "display_data"
    }
   ],
   "source": [
    "from matplotlib.colors import ListedColormap\n",
    "x_set, y_set = X_train,Y_train\n",
    "X1,X2 = np.meshgrid(np.arange(start = x_set[:,0].min()-1, stop = x_set[:,0].max()+1, step = 0.01),\n",
    "        np.arange(start = x_set[:,1].min()-1, stop = x_set[:,1].max()+1,step = 0.01))\n",
    "plt.contour(X1,X2,classifier.predict(np.array([X1.ravel(),X2.ravel()]).T).reshape(X1.shape),\n",
    "                                    alpha = 0.75,cmap = ListedColormap(('red','green','blue')))\n",
    "plt.xlim(X1.min(),X1.max())\n",
    "plt.ylim(X2.min(),X2.max())\n",
    "\n",
    "for i,j in enumerate(np.unique(y_set)):\n",
    "    plt.scatter(x_set[y_set == j, 0],x_set[y_set == j, 1],\n",
    "               c = ListedColormap(('red','green','blue'))(i),label = j)\n",
    "plt.title('Logistic Regression (Trainig set)')\n",
    "plt.xlabel('PC1')\n",
    "plt.ylabel(\"PC2\")\n",
    "plt.legend()\n",
    "plt.show()"
   ]
  },
  {
   "cell_type": "markdown",
   "id": "bbeb2af2",
   "metadata": {},
   "source": [
    "# Visualising the test set:"
   ]
  },
  {
   "cell_type": "code",
   "execution_count": 17,
   "id": "2a84c475",
   "metadata": {},
   "outputs": [
    {
     "name": "stderr",
     "output_type": "stream",
     "text": [
      "*c* argument looks like a single numeric RGB or RGBA sequence, which should be avoided as value-mapping will have precedence in case its length matches with *x* & *y*.  Please use the *color* keyword-argument or provide a 2D array with a single row if you intend to specify the same RGB or RGBA value for all points.\n",
      "*c* argument looks like a single numeric RGB or RGBA sequence, which should be avoided as value-mapping will have precedence in case its length matches with *x* & *y*.  Please use the *color* keyword-argument or provide a 2D array with a single row if you intend to specify the same RGB or RGBA value for all points.\n",
      "*c* argument looks like a single numeric RGB or RGBA sequence, which should be avoided as value-mapping will have precedence in case its length matches with *x* & *y*.  Please use the *color* keyword-argument or provide a 2D array with a single row if you intend to specify the same RGB or RGBA value for all points.\n"
     ]
    },
    {
     "data": {
      "image/png": "[encoded data removed]",
      "text/plain": [
       "<Figure size 432x288 with 1 Axes>"
      ]
     },
     "metadata": {
      "needs_background": "light"
     },
     "output_type": "display_data"
    }
   ],
   "source": [
    "from matplotlib.colors import ListedColormap\n",
    "x_set, y_set = X_test,Y_test\n",
    "X1,X2 = np.meshgrid(np.arange(start = x_set[:,0].min()-1, stop = x_set[:,0].max()+1, step = 0.01),\n",
    "        np.arange(start = x_set[:,1].min()-1, stop = x_set[:,1].max()+1,step = 0.01))\n",
    "plt.contour(X1,X2,classifier.predict(np.array([X1.ravel(),X2.ravel()]).T).reshape(X1.shape),\n",
    "                                    alpha = 0.75,cmap = ListedColormap(('red','green','blue')))\n",
    "plt.xlim(X1.min(),X1.max())\n",
    "plt.ylim(X2.min(),X2.max())\n",
    "\n",
    "for i,j in enumerate(np.unique(y_set)):\n",
    "    plt.scatter(x_set[y_set == j, 0],x_set[y_set == j, 1],\n",
    "               c = ListedColormap(('red','green','blue'))(i),label = j)\n",
    "plt.title('Logistic Regression (Trainig set)')\n",
    "plt.xlabel('PC1')\n",
    "plt.ylabel(\"PC2\")\n",
    "plt.legend()\n",
    "plt.show()"
   ]
  },
  {
   "cell_type": "code",
   "execution_count": null,
   "id": "12f9abef",
   "metadata": {},
   "outputs": [],
   "source": []
  }
 ],
 "metadata": {
  "kernelspec": {
   "display_name": "Python 3 (ipykernel)",
   "language": "python",
   "name": "python3"
  },
  "language_info": {
   "codemirror_mode": {
    "name": "ipython",
    "version": 3
   },
   "file_extension": ".py",
   "mimetype": "text/x-python",
   "name": "python",
   "nbconvert_exporter": "python",
   "pygments_lexer": "ipython3",
   "version": "3.10.9"
  }
 },
 "nbformat": 4,
 "nbformat_minor": 5
}
