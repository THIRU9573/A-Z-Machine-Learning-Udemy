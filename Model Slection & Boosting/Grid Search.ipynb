{
 "cells": [
  {
   "cell_type": "markdown",
   "id": "a7e78bf5",
   "metadata": {},
   "source": [
    "# what is Grid Search:"
   ]
  },
  {
   "cell_type": "raw",
   "id": "a133ce31",
   "metadata": {},
   "source": [
    "Grid search is a hyperparameter tuning technique used to find the best combination of hyperparameters for a given machine learning model. It involves creating a grid of possible hyperparameter values and then exhaustively searching through that grid to find the best combination.\n",
    "\n",
    "Here is a step-by-step example of how grid search works:\n",
    "\n",
    "1.Define the model: The first step is to define the machine learning model that you want to use, along with its hyperparameters. For example, if you want to use a support vector machine (SVM) for classification, you might want to tune the C and gamma hyperparameters.\n",
    "\n",
    "2.Create a grid: Once you have defined the model and its hyperparameters, you need to create a grid of possible values for each hyperparameter. For example, you might want to try the values [0.1, 1, 10] for the C hyperparameter, and the values [0.001, 0.01, 0.1] for the gamma hyperparameter.\n",
    "\n",
    "3.Train and evaluate the model for each combination: Now that you have defined the model and created a grid of hyperparameters, you can start training and evaluating the model for each combination of hyperparameters. This involves training the model on the training data using one set of hyperparameters, and then evaluating its performance on the validation data. You would repeat this process for each combination of hyperparameters in the grid.\n",
    "\n",
    "4.Select the best combination: After evaluating the performance of the model for each combination of hyperparameters, you can select the combination that gives the best performance on the validation data. This is typically done by selecting the combination with the highest accuracy or lowest error rate.\n",
    "\n",
    "5.Test the model: Once you have selected the best combination of hyperparameters, you can train the model on the entire training dataset using those hyperparameters, and then evaluate its performance on the test dataset. This gives you a final estimate of how well the model will perform on new, unseen data.\n",
    "\n",
    "For example, let's say you want to use a support vector machine (SVM) for classification and you want to tune the C and gamma hyperparameters. You create a grid with the following values:\n",
    "\n",
    "C: [0.1, 1, 10]\n",
    "gamma: [0.001, 0.01, 0.1]\n",
    "\n",
    "You then train and evaluate the model for each combination of hyperparameters, resulting in the following performance metrics:\n",
    "\n",
    "C\tgamma\tAccuracy\n",
    "0.1\t0.001\t0.85\n",
    "0.1\t0.01\t0.88\n",
    "0.1\t0.1\t0.82\n",
    "1\t0.001\t0.87\n",
    "1\t0.01\t0.90\n",
    "1\t0.1\t0.86\n",
    "10\t0.001\t0.89\n",
    "10\t0.01\t0.91\n",
    "10\t0.1\t0.88\n",
    "Based on these results, you can see that the combination of C=10 and gamma=0.01 gives the best accuracy of 0.91. You would then use these hyperparameters to train the model on the entire training dataset and evaluate its performance on the test dataset."
   ]
  },
  {
   "cell_type": "markdown",
   "id": "f49df003",
   "metadata": {},
   "source": [
    "# Import the Required Libraries:"
   ]
  },
  {
   "cell_type": "code",
   "execution_count": 1,
   "id": "84140c04",
   "metadata": {},
   "outputs": [],
   "source": [
    "import numpy as np\n",
    "import pandas as pd\n",
    "import matplotlib.pyplot as plt"
   ]
  },
  {
   "cell_type": "markdown",
   "id": "31cf8573",
   "metadata": {},
   "source": [
    "# Read the Dataset:"
   ]
  },
  {
   "cell_type": "code",
   "execution_count": 3,
   "id": "dc3036a0",
   "metadata": {},
   "outputs": [],
   "source": [
    "dataset = pd.read_csv(\"Social_Network_Ads.csv\")\n",
    "x = dataset.iloc[:,:-1].values\n",
    "y = dataset.iloc[:, -1].values"
   ]
  },
  {
   "cell_type": "markdown",
   "id": "d3fa4a3d",
   "metadata": {},
   "source": [
    "# Splitting the dataset into Training and testing:"
   ]
  },
  {
   "cell_type": "code",
   "execution_count": 4,
   "id": "f97d2401",
   "metadata": {},
   "outputs": [],
   "source": [
    "from sklearn.model_selection import train_test_split\n",
    "X_train,X_test,Y_train,Y_test = train_test_split(x,y, test_size = 0.2, random_state = 0)"
   ]
  },
  {
   "cell_type": "markdown",
   "id": "4aa78e2a",
   "metadata": {},
   "source": [
    "# Feature scaling:"
   ]
  },
  {
   "cell_type": "code",
   "execution_count": 5,
   "id": "d8e19552",
   "metadata": {},
   "outputs": [],
   "source": [
    "from sklearn.preprocessing import StandardScaler\n",
    "sc = StandardScaler()\n",
    "X_train = sc.fit_transform(X_train)\n",
    "X_test = sc.transform(X_test)"
   ]
  },
  {
   "cell_type": "markdown",
   "id": "3b8bc149",
   "metadata": {},
   "source": [
    "# Training the kernel SVM model to the training set:"
   ]
  },
  {
   "cell_type": "code",
   "execution_count": 6,
   "id": "0b08ecc7",
   "metadata": {},
   "outputs": [
    {
     "data": {
      "text/html": [
       "<style>#sk-container-id-1 {color: black;background-color: white;}#sk-container-id-1 pre{padding: 0;}#sk-container-id-1 div.sk-toggleable {background-color: white;}#sk-container-id-1 label.sk-toggleable__label {cursor: pointer;display: block;width: 100%;margin-bottom: 0;padding: 0.3em;box-sizing: border-box;text-align: center;}#sk-container-id-1 label.sk-toggleable__label-arrow:before {content: \"▸\";float: left;margin-right: 0.25em;color: #696969;}#sk-container-id-1 label.sk-toggleable__label-arrow:hover:before {color: black;}#sk-container-id-1 div.sk-estimator:hover label.sk-toggleable__label-arrow:before {color: black;}#sk-container-id-1 div.sk-toggleable__content {max-height: 0;max-width: 0;overflow: hidden;text-align: left;background-color: #f0f8ff;}#sk-container-id-1 div.sk-toggleable__content pre {margin: 0.2em;color: black;border-radius: 0.25em;background-color: #f0f8ff;}#sk-container-id-1 input.sk-toggleable__control:checked~div.sk-toggleable__content {max-height: 200px;max-width: 100%;overflow: auto;}#sk-container-id-1 input.sk-toggleable__control:checked~label.sk-toggleable__label-arrow:before {content: \"▾\";}#sk-container-id-1 div.sk-estimator input.sk-toggleable__control:checked~label.sk-toggleable__label {background-color: #d4ebff;}#sk-container-id-1 div.sk-label input.sk-toggleable__control:checked~label.sk-toggleable__label {background-color: #d4ebff;}#sk-container-id-1 input.sk-hidden--visually {border: 0;clip: rect(1px 1px 1px 1px);clip: rect(1px, 1px, 1px, 1px);height: 1px;margin: -1px;overflow: hidden;padding: 0;position: absolute;width: 1px;}#sk-container-id-1 div.sk-estimator {font-family: monospace;background-color: #f0f8ff;border: 1px dotted black;border-radius: 0.25em;box-sizing: border-box;margin-bottom: 0.5em;}#sk-container-id-1 div.sk-estimator:hover {background-color: #d4ebff;}#sk-container-id-1 div.sk-parallel-item::after {content: \"\";width: 100%;border-bottom: 1px solid gray;flex-grow: 1;}#sk-container-id-1 div.sk-label:hover label.sk-toggleable__label {background-color: #d4ebff;}#sk-container-id-1 div.sk-serial::before {content: \"\";position: absolute;border-left: 1px solid gray;box-sizing: border-box;top: 0;bottom: 0;left: 50%;z-index: 0;}#sk-container-id-1 div.sk-serial {display: flex;flex-direction: column;align-items: center;background-color: white;padding-right: 0.2em;padding-left: 0.2em;position: relative;}#sk-container-id-1 div.sk-item {position: relative;z-index: 1;}#sk-container-id-1 div.sk-parallel {display: flex;align-items: stretch;justify-content: center;background-color: white;position: relative;}#sk-container-id-1 div.sk-item::before, #sk-container-id-1 div.sk-parallel-item::before {content: \"\";position: absolute;border-left: 1px solid gray;box-sizing: border-box;top: 0;bottom: 0;left: 50%;z-index: -1;}#sk-container-id-1 div.sk-parallel-item {display: flex;flex-direction: column;z-index: 1;position: relative;background-color: white;}#sk-container-id-1 div.sk-parallel-item:first-child::after {align-self: flex-end;width: 50%;}#sk-container-id-1 div.sk-parallel-item:last-child::after {align-self: flex-start;width: 50%;}#sk-container-id-1 div.sk-parallel-item:only-child::after {width: 0;}#sk-container-id-1 div.sk-dashed-wrapped {border: 1px dashed gray;margin: 0 0.4em 0.5em 0.4em;box-sizing: border-box;padding-bottom: 0.4em;background-color: white;}#sk-container-id-1 div.sk-label label {font-family: monospace;font-weight: bold;display: inline-block;line-height: 1.2em;}#sk-container-id-1 div.sk-label-container {text-align: center;}#sk-container-id-1 div.sk-container {/* jupyter's `normalize.less` sets `[hidden] { display: none; }` but bootstrap.min.css set `[hidden] { display: none !important; }` so we also need the `!important` here to be able to override the default hidden behavior on the sphinx rendered scikit-learn.org. See: https://github.com/scikit-learn/scikit-learn/issues/21755 */display: inline-block !important;position: relative;}#sk-container-id-1 div.sk-text-repr-fallback {display: none;}</style><div id=\"sk-container-id-1\" class=\"sk-top-container\"><div class=\"sk-text-repr-fallback\"><pre>SVC(random_state=0)</pre><b>In a Jupyter environment, please rerun this cell to show the HTML representation or trust the notebook. <br />On GitHub, the HTML representation is unable to render, please try loading this page with nbviewer.org.</b></div><div class=\"sk-container\" hidden><div class=\"sk-item\"><div class=\"sk-estimator sk-toggleable\"><input class=\"sk-toggleable__control sk-hidden--visually\" id=\"sk-estimator-id-1\" type=\"checkbox\" checked><label for=\"sk-estimator-id-1\" class=\"sk-toggleable__label sk-toggleable__label-arrow\">SVC</label><div class=\"sk-toggleable__content\"><pre>SVC(random_state=0)</pre></div></div></div></div></div>"
      ],
      "text/plain": [
       "SVC(random_state=0)"
      ]
     },
     "execution_count": 6,
     "metadata": {},
     "output_type": "execute_result"
    }
   ],
   "source": [
    "from sklearn.svm import SVC\n",
    "classifier = SVC(kernel = 'rbf', random_state = 0)\n",
    "classifier.fit(X_train,Y_train)"
   ]
  },
  {
   "cell_type": "code",
   "execution_count": 7,
   "id": "970c9861",
   "metadata": {},
   "outputs": [],
   "source": [
    "y_pred = classifier.predict(X_test)"
   ]
  },
  {
   "cell_type": "markdown",
   "id": "8d7bfc63",
   "metadata": {},
   "source": [
    "# Making Confusion Matrix:"
   ]
  },
  {
   "cell_type": "code",
   "execution_count": 9,
   "id": "7e21d4fe",
   "metadata": {},
   "outputs": [
    {
     "name": "stdout",
     "output_type": "stream",
     "text": [
      "[[55  3]\n",
      " [ 1 21]]\n"
     ]
    },
    {
     "data": {
      "text/plain": [
       "0.95"
      ]
     },
     "execution_count": 9,
     "metadata": {},
     "output_type": "execute_result"
    }
   ],
   "source": [
    "from sklearn.metrics import confusion_matrix, accuracy_score\n",
    "cm = confusion_matrix(Y_test,y_pred)\n",
    "print(cm)\n",
    "accuracy_score(Y_test, y_pred)"
   ]
  },
  {
   "cell_type": "markdown",
   "id": "59daf24b",
   "metadata": {},
   "source": [
    "# Appying the K-Fold Cross Validation"
   ]
  },
  {
   "cell_type": "code",
   "execution_count": 12,
   "id": "4de51007",
   "metadata": {},
   "outputs": [
    {
     "name": "stdout",
     "output_type": "stream",
     "text": [
      "Accuracy: 90.00 %\n",
      "Standard Deviation: 4.80 %\n"
     ]
    }
   ],
   "source": [
    "from sklearn.model_selection import cross_val_score\n",
    "accuracies = cross_val_score(estimator = classifier, X=  X_train, y = Y_train, cv = 10)\n",
    "print(\"Accuracy: {:.2f} %\".format(accuracies.mean()*100))\n",
    "print(\"Standard Deviation: {:.2f} %\".format(accuracies.std()*100))"
   ]
  },
  {
   "cell_type": "markdown",
   "id": "0d9a7115",
   "metadata": {},
   "source": [
    "# Apply the Grid Search to find the best model and best parameter:"
   ]
  },
  {
   "cell_type": "code",
   "execution_count": 16,
   "id": "b205eed0",
   "metadata": {},
   "outputs": [
    {
     "name": "stdout",
     "output_type": "stream",
     "text": [
      "best Accuracy: 90.62 %\n",
      "best paramets: {'C': 0.25, 'gamma': 0.8, 'kernel': 'rbf'}\n"
     ]
    }
   ],
   "source": [
    "from sklearn.model_selection import GridSearchCV\n",
    "parameters = [{'C': [0.25, 0.5, 0.75, 1], 'kernel':['linear']},\n",
    "              {'C': [0.25, 0.5, 0.75, 1], 'kernel':['rbf'], 'gamma': [0.1, 0.2, 0.3, 0.4, 0.5, 0.6, 0.7, 0.8, 0.9]}] \n",
    "grid_search = GridSearchCV(estimator = classifier,\n",
    "                          param_grid = parameters,\n",
    "                          scoring = 'accuracy',\n",
    "                          cv = 10,\n",
    "                          n_jobs = -1)\n",
    "grid_search.fit(X_train,Y_train)\n",
    "best_accuracy = grid_search.best_score_\n",
    "best_parameters = grid_search.best_params_\n",
    "print(\"best Accuracy: {:.2f} %\".format(best_accuracy*100))\n",
    "print(\"best paramets:\",best_parameters)"
   ]
  },
  {
   "cell_type": "markdown",
   "id": "38f0ba56",
   "metadata": {},
   "source": [
    "# Visualising the training set result"
   ]
  },
  {
   "cell_type": "code",
   "execution_count": 17,
   "id": "25cdb404",
   "metadata": {},
   "outputs": [
    {
     "name": "stderr",
     "output_type": "stream",
     "text": [
      "*c* argument looks like a single numeric RGB or RGBA sequence, which should be avoided as value-mapping will have precedence in case its length matches with *x* & *y*.  Please use the *color* keyword-argument or provide a 2D array with a single row if you intend to specify the same RGB or RGBA value for all points.\n",
      "*c* argument looks like a single numeric RGB or RGBA sequence, which should be avoided as value-mapping will have precedence in case its length matches with *x* & *y*.  Please use the *color* keyword-argument or provide a 2D array with a single row if you intend to specify the same RGB or RGBA value for all points.\n"
     ]
    },
    {
     "data": {
      "image/png": "[encoded data removed]",
      "text/plain": [
       "<Figure size 432x288 with 1 Axes>"
      ]
     },
     "metadata": {
      "needs_background": "light"
     },
     "output_type": "display_data"
    }
   ],
   "source": [
    "from matplotlib.colors import ListedColormap\n",
    "x_set, y_set = X_train,Y_train\n",
    "X1,X2 = np.meshgrid(np.arange(start = x_set[:,0].min()-1, stop = x_set[:,0].max()+1, step = 0.01),\n",
    "        np.arange(start = x_set[:,1].min()-1, stop = x_set[:,1].max()+1,step = 0.01))\n",
    "plt.contour(X1,X2,classifier.predict(np.array([X1.ravel(),X2.ravel()]).T).reshape(X1.shape),\n",
    "                                    alpha = 0.75,cmap = ListedColormap(('red','green','blue')))\n",
    "plt.xlim(X1.min(),X1.max())\n",
    "plt.ylim(X2.min(),X2.max())\n",
    "\n",
    "for i,j in enumerate(np.unique(y_set)):\n",
    "    plt.scatter(x_set[y_set == j, 0],x_set[y_set == j, 1],\n",
    "               c = ListedColormap(('red','green','blue'))(i),label = j)\n",
    "plt.title('SVM (Trainig set)')\n",
    "plt.xlabel('Age')\n",
    "plt.ylabel(\"Estmated Salary\")\n",
    "plt.legend()\n",
    "plt.show()"
   ]
  },
  {
   "cell_type": "markdown",
   "id": "92f0661d",
   "metadata": {},
   "source": [
    "# Visualisin the test set result:"
   ]
  },
  {
   "cell_type": "code",
   "execution_count": 18,
   "id": "1f1ebe80",
   "metadata": {},
   "outputs": [
    {
     "name": "stderr",
     "output_type": "stream",
     "text": [
      "*c* argument looks like a single numeric RGB or RGBA sequence, which should be avoided as value-mapping will have precedence in case its length matches with *x* & *y*.  Please use the *color* keyword-argument or provide a 2D array with a single row if you intend to specify the same RGB or RGBA value for all points.\n",
      "*c* argument looks like a single numeric RGB or RGBA sequence, which should be avoided as value-mapping will have precedence in case its length matches with *x* & *y*.  Please use the *color* keyword-argument or provide a 2D array with a single row if you intend to specify the same RGB or RGBA value for all points.\n"
     ]
    },
    {
     "data": {
      "image/png": "[encoded data removed]",
      "text/plain": [
       "<Figure size 432x288 with 1 Axes>"
      ]
     },
     "metadata": {
      "needs_background": "light"
     },
     "output_type": "display_data"
    }
   ],
   "source": [
    "from matplotlib.colors import ListedColormap\n",
    "x_set, y_set = X_test,Y_test\n",
    "X1,X2 = np.meshgrid(np.arange(start = x_set[:,0].min()-1, stop = x_set[:,0].max()+1, step = 0.01),\n",
    "        np.arange(start = x_set[:,1].min()-1, stop = x_set[:,1].max()+1,step = 0.01))\n",
    "plt.contour(X1,X2,classifier.predict(np.array([X1.ravel(),X2.ravel()]).T).reshape(X1.shape),\n",
    "                                    alpha = 0.75,cmap = ListedColormap(('red','green','blue')))\n",
    "plt.xlim(X1.min(),X1.max())\n",
    "plt.ylim(X2.min(),X2.max())\n",
    "\n",
    "for i,j in enumerate(np.unique(y_set)):\n",
    "    plt.scatter(x_set[y_set == j, 0],x_set[y_set == j, 1],\n",
    "               c = ListedColormap(('red','green','blue'))(i),label = j)\n",
    "plt.title('SVM (Trainig set)')\n",
    "plt.xlabel('Age')\n",
    "plt.ylabel(\"Estmated Salary\")\n",
    "plt.legend()\n",
    "plt.show()"
   ]
  },
  {
   "cell_type": "code",
   "execution_count": null,
   "id": "b0a059fa",
   "metadata": {},
   "outputs": [],
   "source": []
  }
 ],
 "metadata": {
  "kernelspec": {
   "display_name": "Python 3 (ipykernel)",
   "language": "python",
   "name": "python3"
  },
  "language_info": {
   "codemirror_mode": {
    "name": "ipython",
    "version": 3
   },
   "file_extension": ".py",
   "mimetype": "text/x-python",
   "name": "python",
   "nbconvert_exporter": "python",
   "pygments_lexer": "ipython3",
   "version": "3.10.9"
  }
 },
 "nbformat": 4,
 "nbformat_minor": 5
}
